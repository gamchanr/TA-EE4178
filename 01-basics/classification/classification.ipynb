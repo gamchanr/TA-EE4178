{
 "cells": [
  {
   "cell_type": "markdown",
   "metadata": {},
   "source": [
    "# Classification\n",
    "<hr>"
   ]
  },
  {
   "cell_type": "markdown",
   "metadata": {},
   "source": [
    "## 1. Binary Classification (XOR)"
   ]
  },
  {
   "cell_type": "markdown",
   "metadata": {},
   "source": [
    "#### (1) Load Data"
   ]
  },
  {
   "cell_type": "code",
   "execution_count": 1,
   "metadata": {
    "collapsed": true
   },
   "outputs": [],
   "source": [
    "import torch"
   ]
  },
  {
   "cell_type": "code",
   "execution_count": 2,
   "metadata": {
    "collapsed": true
   },
   "outputs": [],
   "source": [
    "train_data = torch.tensor([[0.,0.], [0.,1.], [1.,0.], [1.,1.]], requires_grad=True)\n",
    "targets = torch.tensor([0.,1.,1.,0.]).view(-1, 1)"
   ]
  },
  {
   "cell_type": "markdown",
   "metadata": {},
   "source": [
    "#### <strike>(2) Define Dataloader</strike>"
   ]
  },
  {
   "cell_type": "markdown",
   "metadata": {},
   "source": [
    "- Doesn't Need PyTorch Built-in Dataloader for Small Data\n",
    "- Doesn't Need Custom Dataloader for No Preprocessing Required Data"
   ]
  },
  {
   "cell_type": "markdown",
   "metadata": {},
   "source": [
    "#### (3) Define Model"
   ]
  },
  {
   "cell_type": "code",
   "execution_count": 3,
   "metadata": {
    "collapsed": true
   },
   "outputs": [],
   "source": [
    "import torch.nn as nn"
   ]
  },
  {
   "cell_type": "code",
   "execution_count": 4,
   "metadata": {
    "collapsed": true
   },
   "outputs": [],
   "source": [
    "class Net(nn.Module):\n",
    "    def __init__(self):\n",
    "        super(Net, self).__init__()\n",
    "        self.fc1 = nn.Linear(2, 3)\n",
    "        self.fc2 = nn.Linear(3, 1)\n",
    "        \n",
    "    def forward(self, x):\n",
    "        x = torch.sigmoid(self.fc1(x))\n",
    "        x = torch.sigmoid(self.fc2(x))\n",
    "        return x\n",
    "        \n",
    "model = Net()"
   ]
  },
  {
   "cell_type": "code",
   "execution_count": 5,
   "metadata": {},
   "outputs": [
    {
     "name": "stdout",
     "output_type": "stream",
     "text": [
      "Net(\n",
      "  (fc1): Linear(in_features=2, out_features=3, bias=True)\n",
      "  (fc2): Linear(in_features=3, out_features=1, bias=True)\n",
      ")\n"
     ]
    }
   ],
   "source": [
    "# check which layers consist Network\n",
    "print(model)"
   ]
  },
  {
   "cell_type": "markdown",
   "metadata": {},
   "source": [
    "#### (4) Set Loss & Optimizer"
   ]
  },
  {
   "cell_type": "code",
   "execution_count": 6,
   "metadata": {
    "collapsed": true
   },
   "outputs": [],
   "source": [
    "criterion = nn.MSELoss()\n",
    "optimizer = torch.optim.SGD(model.parameters(), lr=0.05)"
   ]
  },
  {
   "cell_type": "markdown",
   "metadata": {},
   "source": [
    "#### (5) Train / Test"
   ]
  },
  {
   "cell_type": "code",
   "execution_count": 7,
   "metadata": {
    "collapsed": true
   },
   "outputs": [],
   "source": [
    "import numpy as np # To Check Trained Parameters"
   ]
  },
  {
   "cell_type": "code",
   "execution_count": 8,
   "metadata": {},
   "outputs": [
    {
     "name": "stdout",
     "output_type": "stream",
     "text": [
      "Epoch:        0 | Loss: 0.365527 | Output: 0.604588 | Target: 0.0\n",
      "Epoch:     1000 | Loss: 0.247974 | Output: 0.502030 | Target: 1.0\n",
      "Epoch:     2000 | Loss: 0.263269 | Output: 0.486903 | Target: 1.0\n",
      "Epoch:     3000 | Loss: 0.292943 | Output: 0.541242 | Target: 0.0\n",
      "Epoch:     4000 | Loss: 0.065796 | Output: 0.256507 | Target: 0.0\n",
      "Epoch:     5000 | Loss: 0.028429 | Output: 0.831390 | Target: 1.0\n",
      "Epoch:     6000 | Loss: 0.050007 | Output: 0.776378 | Target: 1.0\n",
      "Epoch:     7000 | Loss: 0.026196 | Output: 0.161852 | Target: 0.0\n",
      "Epoch:     8000 | Loss: 0.002674 | Output: 0.051713 | Target: 0.0\n",
      "Epoch:     9000 | Loss: 0.006479 | Output: 0.919506 | Target: 1.0\n",
      "Epoch:    10000 | Loss: 0.006031 | Output: 0.922342 | Target: 1.0\n",
      "Epoch:    11000 | Loss: 0.006608 | Output: 0.081292 | Target: 0.0\n",
      "Epoch:    12000 | Loss: 0.000744 | Output: 0.027281 | Target: 0.0\n",
      "Epoch:    13000 | Loss: 0.002853 | Output: 0.946585 | Target: 1.0\n",
      "Epoch:    14000 | Loss: 0.002897 | Output: 0.946175 | Target: 1.0\n",
      "-----------------------------------------------------------------\n",
      "Trained Parameters:\n",
      "fc1.weight torch.Size([3, 2]) \n",
      " [[-1.89  5.74]\n",
      " [ 6.4  -4.4 ]\n",
      " [ 5.51  4.87]]\n",
      "fc1.bias torch.Size([3]) \n",
      " [-0.53  1.72 -1.1 ]\n",
      "fc2.weight torch.Size([1, 3]) \n",
      " [[-6.72 -6.73  7.92]]\n",
      "fc2.bias torch.Size([1]) \n",
      " [2.38]\n",
      "-----------------------------------------------------------------\n",
      "Final results:\n",
      "Input: 0.000000 | Output: 0.021024 | Target: 0.0\n",
      "Input: 0.000000 | Output: 0.953039 | Target: 1.0\n",
      "Input: 1.000000 | Output: 0.949481 | Target: 1.0\n",
      "Input: 1.000000 | Output: 0.059870 | Target: 0.0\n"
     ]
    }
   ],
   "source": [
    "epochs = 15000\n",
    "for idx in range(epochs):\n",
    "    for i, (input, target) in enumerate(zip(train_data, targets)):\n",
    "        # Forward Propagation\n",
    "        output = model(input)\n",
    "        \n",
    "        # Get Loss, Compute Gradient, Update Parameters\n",
    "        loss = criterion(output, target)\n",
    "        optimizer.zero_grad()\n",
    "        loss.backward()\n",
    "        optimizer.step()\n",
    "        \n",
    "        # Print Loss for Tracking Training\n",
    "        if idx % 1000 == 0 and (idx//1000)%4 == i:\n",
    "            print(\"Epoch: {: >8} | Loss: {:8f} | Output: {:4f} | Target: {}\".format(idx, loss, output.data[0], target.data[0]))\n",
    "            \n",
    "# Test after Training is done\n",
    "with torch.no_grad():\n",
    "    print(\"-----------------------------------------------------------------\")\n",
    "    print(\"Trained Parameters:\")\n",
    "    for name, param in model.named_parameters():\n",
    "        if param.requires_grad:\n",
    "            print(name, param.data.size(), '\\n', np.round_(param.data.numpy(),2))\n",
    "            \n",
    "    print(\"-----------------------------------------------------------------\")\n",
    "    print(\"Final results:\")\n",
    "    for input, target in zip(train_data, targets):\n",
    "        output = model(input)\n",
    "        print(\"Input: {:4f} | Output: {:4f} | Target: {}\".format(input.data[0], output.data[0], target.data[0]))"
   ]
  },
  {
   "cell_type": "markdown",
   "metadata": {
    "collapsed": true
   },
   "source": [
    "<hr id=\"border1\">"
   ]
  },
  {
   "cell_type": "markdown",
   "metadata": {},
   "source": [
    "## 2. Multi-class Classification (MNIST)"
   ]
  },
  {
   "cell_type": "markdown",
   "metadata": {},
   "source": [
    "#### (0) Define Hyper-parameters"
   ]
  },
  {
   "cell_type": "code",
   "execution_count": 9,
   "metadata": {
    "collapsed": true
   },
   "outputs": [],
   "source": [
    "import torch"
   ]
  },
  {
   "cell_type": "code",
   "execution_count": 10,
   "metadata": {
    "collapsed": true
   },
   "outputs": [],
   "source": [
    "# Device configuration\n",
    "device = torch.device('cuda' if torch.cuda.is_available() else 'cpu')\n",
    "\n",
    "# Hyper-parameters\n",
    "input_size = 784\n",
    "hidden_size = 500\n",
    "num_classes = 10\n",
    "num_epochs = 5\n",
    "batch_size = 100\n",
    "learning_rate = 0.001"
   ]
  },
  {
   "cell_type": "markdown",
   "metadata": {},
   "source": [
    "#### (1) Load Data"
   ]
  },
  {
   "cell_type": "code",
   "execution_count": 11,
   "metadata": {
    "collapsed": true
   },
   "outputs": [],
   "source": [
    "import torchvision\n",
    "import torchvision.transforms as transforms"
   ]
  },
  {
   "cell_type": "code",
   "execution_count": 12,
   "metadata": {
    "collapsed": true
   },
   "outputs": [],
   "source": [
    "train_dataset = torchvision.datasets.MNIST(root='./datasets',\n",
    "                                           train=True,\n",
    "                                           transform=transforms.ToTensor(),\n",
    "                                           download=True)\n",
    "\n",
    "test_dataset = torchvision.datasets.MNIST(root='./datasets',\n",
    "                                          train=False,\n",
    "                                          transform=transforms.ToTensor())"
   ]
  },
  {
   "cell_type": "code",
   "execution_count": 13,
   "metadata": {},
   "outputs": [
    {
     "name": "stdout",
     "output_type": "stream",
     "text": [
      "60000 torch.Size([1, 28, 28]) tensor(5)\n",
      "10000 torch.Size([1, 28, 28]) tensor(7)\n"
     ]
    }
   ],
   "source": [
    "# cf) check for the data\n",
    "image, label = train_dataset[0]\n",
    "print(len(train_dataset), image.size(), label)\n",
    "image, label = test_dataset[0]\n",
    "print(len(test_dataset), image.size(), label)"
   ]
  },
  {
   "cell_type": "markdown",
   "metadata": {},
   "source": [
    "#### (2) Define Dataloader"
   ]
  },
  {
   "cell_type": "code",
   "execution_count": 14,
   "metadata": {
    "collapsed": true
   },
   "outputs": [],
   "source": [
    "data_loader = torch.utils.data.DataLoader(dataset=train_dataset,\n",
    "                                           batch_size=batch_size,\n",
    "                                           shuffle=True)\n",
    "\n",
    "test_loader = torch.utils.data.DataLoader(dataset=test_dataset,\n",
    "                                          batch_size=batch_size,\n",
    "                                          shuffle=False)"
   ]
  },
  {
   "cell_type": "code",
   "execution_count": 15,
   "metadata": {},
   "outputs": [
    {
     "name": "stdout",
     "output_type": "stream",
     "text": [
      "600\n",
      "torch.Size([100, 1, 28, 28]) tensor([4, 0, 4, 0, 9, 3, 2, 5, 2, 9, 8, 6, 9, 2, 0, 7, 9, 2, 8, 1, 3, 6, 7, 8,\n",
      "        7, 0, 5, 5, 1, 7, 3, 8, 8, 7, 3, 8, 8, 6, 1, 6, 3, 0, 7, 9, 0, 6, 6, 0,\n",
      "        5, 2, 2, 8, 5, 5, 3, 5, 5, 0, 1, 6, 0, 1, 2, 0, 9, 5, 1, 1, 6, 5, 6, 5,\n",
      "        8, 9, 4, 5, 1, 5, 5, 2, 6, 5, 9, 5, 4, 5, 5, 7, 4, 6, 8, 2, 8, 1, 6, 7,\n",
      "        5, 0, 2, 1])\n",
      "torch.Size([100, 1, 28, 28]) tensor([2, 7, 6, 8, 4, 5, 7, 2, 2, 9, 9, 4, 0, 0, 3, 1, 2, 6, 1, 0, 1, 8, 0, 0,\n",
      "        7, 0, 5, 0, 3, 7, 2, 3, 4, 2, 0, 6, 6, 8, 8, 4, 0, 0, 6, 2, 0, 2, 6, 3,\n",
      "        7, 0, 4, 0, 1, 6, 9, 1, 3, 3, 0, 5, 5, 2, 5, 7, 9, 1, 2, 5, 2, 2, 3, 3,\n",
      "        9, 2, 4, 7, 4, 4, 9, 7, 2, 2, 2, 2, 0, 0, 1, 2, 4, 9, 1, 1, 2, 1, 7, 8,\n",
      "        5, 2, 6, 3])\n",
      "torch.Size([100, 1, 28, 28]) tensor([1, 6, 6, 5, 7, 6, 4, 5, 3, 7, 0, 5, 7, 3, 5, 3, 8, 9, 7, 9, 7, 4, 8, 3,\n",
      "        0, 2, 4, 8, 0, 5, 9, 5, 0, 2, 2, 6, 1, 0, 5, 6, 6, 4, 6, 5, 6, 3, 7, 7,\n",
      "        9, 1, 3, 1, 2, 8, 8, 8, 3, 6, 8, 4, 4, 5, 5, 3, 0, 9, 4, 7, 7, 4, 7, 7,\n",
      "        1, 3, 5, 9, 5, 4, 7, 1, 4, 0, 6, 2, 7, 3, 1, 2, 6, 6, 4, 4, 0, 4, 0, 0,\n",
      "        8, 1, 1, 8])\n"
     ]
    }
   ],
   "source": [
    "# cf) check how data_loader works\n",
    "print(len(data_loader))\n",
    "for idx, (images, labels) in enumerate(data_loader):\n",
    "    if idx == 3:\n",
    "        break\n",
    "    print(images.size(), labels)"
   ]
  },
  {
   "cell_type": "markdown",
   "metadata": {},
   "source": [
    "#### (3) Define Model"
   ]
  },
  {
   "cell_type": "code",
   "execution_count": 16,
   "metadata": {
    "collapsed": true
   },
   "outputs": [],
   "source": [
    "import torch.nn as nn"
   ]
  },
  {
   "cell_type": "code",
   "execution_count": 17,
   "metadata": {
    "collapsed": true
   },
   "outputs": [],
   "source": [
    "class Net(nn.Module):\n",
    "    def __init__(self, input_size, hidden_size, num_classes):\n",
    "        super(Net, self).__init__()\n",
    "        self.fc1 = nn.Linear(input_size, hidden_size)\n",
    "        self.relu = nn.ReLU()\n",
    "        self.fc2 = nn.Linear(hidden_size, num_classes)\n",
    "\n",
    "    def forward(self, x):\n",
    "        x = self.fc1(x)\n",
    "        x = self.relu(x)\n",
    "        x = self.fc2(x)\n",
    "        return x\n",
    "\n",
    "model = Net(input_size, hidden_size, num_classes).to(device)\n"
   ]
  },
  {
   "cell_type": "code",
   "execution_count": 18,
   "metadata": {},
   "outputs": [
    {
     "name": "stdout",
     "output_type": "stream",
     "text": [
      "Net(\n",
      "  (fc1): Linear(in_features=784, out_features=500, bias=True)\n",
      "  (relu): ReLU()\n",
      "  (fc2): Linear(in_features=500, out_features=10, bias=True)\n",
      ")\n"
     ]
    }
   ],
   "source": [
    "# check which layers consist Network\n",
    "print(model)"
   ]
  },
  {
   "cell_type": "code",
   "execution_count": 19,
   "metadata": {},
   "outputs": [
    {
     "name": "stdout",
     "output_type": "stream",
     "text": [
      "torch.Size([100, 10]) \n",
      " tensor([-0.0589, -0.0238, -0.0817, -0.0101,  0.1238, -0.0387,  0.0397, -0.0822,\n",
      "         0.0422, -0.1664], grad_fn=<SelectBackward>) \n",
      " 4\n"
     ]
    }
   ],
   "source": [
    "# cf) check how data passes through the Network\n",
    "data_iter = iter(data_loader)\n",
    "images, labels = data_iter.next()\n",
    "images = images.reshape(-1, 28*28) # reshape dimensions of the input images to fit model\n",
    "outputs = model(images)\n",
    "print(outputs.size(), '\\n', outputs[0], '\\n', outputs[0].tolist().index(max(outputs[0])))"
   ]
  },
  {
   "cell_type": "markdown",
   "metadata": {},
   "source": [
    "#### (4) Set Loss & Optimizer"
   ]
  },
  {
   "cell_type": "code",
   "execution_count": 20,
   "metadata": {
    "collapsed": true
   },
   "outputs": [],
   "source": [
    "criterion = nn.CrossEntropyLoss()\n",
    "optimizer = torch.optim.Adam(model.parameters(), lr=learning_rate)"
   ]
  },
  {
   "cell_type": "markdown",
   "metadata": {},
   "source": [
    "#### (5) Train / Test"
   ]
  },
  {
   "cell_type": "code",
   "execution_count": 21,
   "metadata": {},
   "outputs": [
    {
     "name": "stdout",
     "output_type": "stream",
     "text": [
      "Epoch [1/5], Step [100/600], Loss: 0.5137\n",
      "Epoch [1/5], Step [200/600], Loss: 0.2508\n",
      "Epoch [1/5], Step [300/600], Loss: 0.0863\n",
      "Epoch [1/5], Step [400/600], Loss: 0.2060\n",
      "Epoch [1/5], Step [500/600], Loss: 0.1317\n",
      "Epoch [1/5], Step [600/600], Loss: 0.1729\n",
      "Epoch [2/5], Step [100/600], Loss: 0.1191\n",
      "Epoch [2/5], Step [200/600], Loss: 0.1102\n",
      "Epoch [2/5], Step [300/600], Loss: 0.1173\n",
      "Epoch [2/5], Step [400/600], Loss: 0.0636\n",
      "Epoch [2/5], Step [500/600], Loss: 0.1249\n",
      "Epoch [2/5], Step [600/600], Loss: 0.1178\n",
      "Epoch [3/5], Step [100/600], Loss: 0.0750\n",
      "Epoch [3/5], Step [200/600], Loss: 0.0134\n",
      "Epoch [3/5], Step [300/600], Loss: 0.0512\n",
      "Epoch [3/5], Step [400/600], Loss: 0.1292\n",
      "Epoch [3/5], Step [500/600], Loss: 0.1325\n",
      "Epoch [3/5], Step [600/600], Loss: 0.0750\n",
      "Epoch [4/5], Step [100/600], Loss: 0.0761\n",
      "Epoch [4/5], Step [200/600], Loss: 0.0540\n",
      "Epoch [4/5], Step [300/600], Loss: 0.0200\n",
      "Epoch [4/5], Step [400/600], Loss: 0.0828\n",
      "Epoch [4/5], Step [500/600], Loss: 0.0362\n",
      "Epoch [4/5], Step [600/600], Loss: 0.0769\n",
      "Epoch [5/5], Step [100/600], Loss: 0.0741\n",
      "Epoch [5/5], Step [200/600], Loss: 0.0379\n",
      "Epoch [5/5], Step [300/600], Loss: 0.0281\n",
      "Epoch [5/5], Step [400/600], Loss: 0.0961\n",
      "Epoch [5/5], Step [500/600], Loss: 0.0383\n",
      "Epoch [5/5], Step [600/600], Loss: 0.0152\n",
      "Accuracy of the network on the 10000 test images: 98.0 %\n"
     ]
    }
   ],
   "source": [
    "for epoch in range(num_epochs):\n",
    "    for i, (images, labels) in enumerate(data_loader):\n",
    "        # Assign Tensors to Configured Device\n",
    "        images = images.reshape(-1, 28*28).to(device) # reshape dimensions of the input images to fit model\n",
    "        labels = labels.to(device)\n",
    "\n",
    "        # Forward Propagation\n",
    "        outputs = model(images)\n",
    "\n",
    "        # Get Loss, Compute Gradient, Update Parameters\n",
    "        loss = criterion(outputs, labels)\n",
    "        optimizer.zero_grad()\n",
    "        loss.backward()\n",
    "        optimizer.step()\n",
    "\n",
    "        # Print Loss for Tracking Training\n",
    "        if (i+1) % 100 == 0:\n",
    "            print ('Epoch [{}/{}], Step [{}/{}], Loss: {:.4f}'.format(epoch+1, num_epochs, i+1, len(data_loader), loss.item()))\n",
    "\n",
    "# Test after Training is done\n",
    "with torch.no_grad():\n",
    "    correct = 0\n",
    "    total = 0\n",
    "    for images, labels in test_loader:\n",
    "        images = images.reshape(-1, 28*28).to(device) # reshape dimensions of the input images to fit model\n",
    "        labels = labels.to(device)\n",
    "        outputs = model(images)\n",
    "        _, predicted = torch.max(outputs.data, 1)\n",
    "        total += labels.size(0)\n",
    "        correct += (predicted == labels).sum().item()\n",
    "\n",
    "    print('Accuracy of the network on the 10000 test images: {} %'.format(100 * correct / total))"
   ]
  },
  {
   "cell_type": "markdown",
   "metadata": {},
   "source": [
    "#### (6) Save & Visualization"
   ]
  },
  {
   "cell_type": "code",
   "execution_count": 22,
   "metadata": {
    "collapsed": true
   },
   "outputs": [],
   "source": [
    "torch.save(model.state_dict(), 'model.ckpt')"
   ]
  }
 ],
 "metadata": {
  "kernelspec": {
   "display_name": "Python 3",
   "language": "python",
   "name": "python3"
  },
  "language_info": {
   "codemirror_mode": {
    "name": "ipython",
    "version": 3
   },
   "file_extension": ".py",
   "mimetype": "text/x-python",
   "name": "python",
   "nbconvert_exporter": "python",
   "pygments_lexer": "ipython3",
   "version": "3.6.5"
  }
 },
 "nbformat": 4,
 "nbformat_minor": 2
}

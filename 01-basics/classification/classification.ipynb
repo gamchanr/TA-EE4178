{
 "cells": [
  {
   "cell_type": "markdown",
   "metadata": {},
   "source": [
    "# Classification\n",
    "<hr>"
   ]
  },
  {
   "cell_type": "markdown",
   "metadata": {},
   "source": [
    "## 1. Binary Classification (XOR)"
   ]
  },
  {
   "cell_type": "markdown",
   "metadata": {},
   "source": [
    "#### (1) Load Data"
   ]
  },
  {
   "cell_type": "code",
   "execution_count": 1,
   "metadata": {
    "collapsed": true
   },
   "outputs": [],
   "source": [
    "import torch"
   ]
  },
  {
   "cell_type": "code",
   "execution_count": 2,
   "metadata": {},
   "outputs": [],
   "source": [
    "train_data = torch.tensor([[0.,0.], [0.,1.], [1.,0.], [1.,1.]], requires_grad=True)\n",
    "targets = torch.tensor([0.,1.,1.,0.]).view(-1, 1)"
   ]
  },
  {
   "cell_type": "markdown",
   "metadata": {},
   "source": [
    "#### <strike>(2) Define Dataloader</strike>"
   ]
  },
  {
   "cell_type": "markdown",
   "metadata": {},
   "source": [
    "- Doesn't Need PyTorch Built-in Dataloader for Small Data\n",
    "- Doesn't Need Custom Dataloader for No Preprocessing Required Data"
   ]
  },
  {
   "cell_type": "markdown",
   "metadata": {},
   "source": [
    "#### (3) Define Model"
   ]
  },
  {
   "cell_type": "code",
   "execution_count": 3,
   "metadata": {
    "collapsed": true
   },
   "outputs": [],
   "source": [
    "import torch.nn as nn"
   ]
  },
  {
   "cell_type": "code",
   "execution_count": 4,
   "metadata": {},
   "outputs": [],
   "source": [
    "class Net(nn.Module):\n",
    "    def __init__(self):\n",
    "        super(Net, self).__init__()\n",
    "        self.fc1 = nn.Linear(2, 3)\n",
    "        self.fc2 = nn.Linear(3, 1)\n",
    "        \n",
    "    def forward(self, x):\n",
    "        x = torch.sigmoid(self.fc1(x))\n",
    "        x = torch.sigmoid(self.fc2(x))\n",
    "        return x\n",
    "        \n",
    "model = Net()"
   ]
  },
  {
   "cell_type": "code",
   "execution_count": 5,
   "metadata": {},
   "outputs": [
    {
     "name": "stdout",
     "output_type": "stream",
     "text": [
      "Net(\n",
      "  (fc1): Linear(in_features=2, out_features=3, bias=True)\n",
      "  (fc2): Linear(in_features=3, out_features=1, bias=True)\n",
      ")\n"
     ]
    }
   ],
   "source": [
    "# check which layers consist Network\n",
    "print(model)"
   ]
  },
  {
   "cell_type": "markdown",
   "metadata": {},
   "source": [
    "#### (4) Set Loss & Optimizer"
   ]
  },
  {
   "cell_type": "code",
   "execution_count": 6,
   "metadata": {
    "collapsed": true
   },
   "outputs": [],
   "source": [
    "criterion = nn.MSELoss()\n",
    "optimizer = torch.optim.SGD(model.parameters(), lr=0.05)"
   ]
  },
  {
   "cell_type": "markdown",
   "metadata": {},
   "source": [
    "#### (5) Train / Test"
   ]
  },
  {
   "cell_type": "code",
   "execution_count": 7,
   "metadata": {
    "collapsed": true
   },
   "outputs": [],
   "source": [
    "import numpy as np # To Check Trained Parameters"
   ]
  },
  {
   "cell_type": "code",
   "execution_count": 8,
   "metadata": {},
   "outputs": [
    {
     "name": "stdout",
     "output_type": "stream",
     "text": [
      "Epoch:        0 | Loss: 0.265319 | Output: 0.515092 | Target: 0.0\n",
      "Epoch:     1000 | Loss: 0.248328 | Output: 0.501675 | Target: 1.0\n",
      "Epoch:     2000 | Loss: 0.257486 | Output: 0.492570 | Target: 1.0\n",
      "Epoch:     3000 | Loss: 0.250491 | Output: 0.500491 | Target: 0.0\n",
      "Epoch:     4000 | Loss: 0.255215 | Output: 0.505188 | Target: 0.0\n",
      "Epoch:     5000 | Loss: 0.241171 | Output: 0.508908 | Target: 1.0\n",
      "Epoch:     6000 | Loss: 0.268562 | Output: 0.481770 | Target: 1.0\n",
      "Epoch:     7000 | Loss: 0.242647 | Output: 0.492592 | Target: 0.0\n",
      "Epoch:     8000 | Loss: 0.254556 | Output: 0.504535 | Target: 0.0\n",
      "Epoch:     9000 | Loss: 0.107584 | Output: 0.672001 | Target: 1.0\n",
      "Epoch:    10000 | Loss: 0.408789 | Output: 0.360634 | Target: 1.0\n",
      "Epoch:    11000 | Loss: 0.056729 | Output: 0.238179 | Target: 0.0\n",
      "Epoch:    12000 | Loss: 0.020764 | Output: 0.144097 | Target: 0.0\n",
      "Epoch:    13000 | Loss: 0.006658 | Output: 0.918404 | Target: 1.0\n",
      "Epoch:    14000 | Loss: 0.005658 | Output: 0.924777 | Target: 1.0\n",
      "-----------------------------------------------------------------\n",
      "fc1.weight torch.Size([3, 2]) \n",
      " [[ 4.45 -4.73]\n",
      " [-5.54  5.48]\n",
      " [-1.68  1.08]]\n",
      "fc1.bias torch.Size([3]) \n",
      " [-2.49 -3.19 -1.74]\n",
      "fc2.weight torch.Size([1, 3]) \n",
      " [[ 6.9   6.81 -0.13]]\n",
      "fc2.bias torch.Size([1]) \n",
      " [-3.35]\n",
      "-----------------------------------------------------------------\n",
      "Final results:\n",
      "Input: 0.000000 | Output: 0.070574 | Target: 0.0\n",
      "Input: 0.000000 | Output: 0.942042 | Target: 1.0\n",
      "Input: 1.000000 | Output: 0.936339 | Target: 1.0\n",
      "Input: 1.000000 | Output: 0.062688 | Target: 0.0\n"
     ]
    }
   ],
   "source": [
    "epochs = 15000\n",
    "for idx in range(epochs):\n",
    "    for i, (input, target) in enumerate(zip(train_data, targets)):\n",
    "        # Forward Propagation\n",
    "        output = model(input)\n",
    "        \n",
    "        # Get Loss, Compute Gradient, Update Parameters\n",
    "        loss = criterion(output, target)\n",
    "        optimizer.zero_grad()\n",
    "        loss.backward()\n",
    "        optimizer.step()\n",
    "        \n",
    "        # Print Loss for Tracking Training\n",
    "        if idx % 1000 == 0 and (idx//1000)%4 == i:\n",
    "            print(\"Epoch: {: >8} | Loss: {:8f} | Output: {:4f} | Target: {}\".format(idx, loss, output.data[0], target.data[0]))\n",
    "            \n",
    "# Test after Training is done\n",
    "with torch.no_grad():\n",
    "    print(\"-----------------------------------------------------------------\")\n",
    "    print(\"Trained Parameters:\")\n",
    "    for name, param in model.named_parameters():\n",
    "        if param.requires_grad:\n",
    "            print(name, param.data.size(), '\\n', np.round_(param.data.numpy(),2))\n",
    "            \n",
    "    print(\"-----------------------------------------------------------------\")\n",
    "    print(\"Final results:\")\n",
    "    for input, target in zip(train_data, targets):\n",
    "        output = model(input)\n",
    "        print(\"Input: {:4f} | Output: {:4f} | Target: {}\".format(input.data[0], output.data[0], target.data[0]))"
   ]
  },
  {
   "cell_type": "code",
   "execution_count": null,
   "metadata": {
    "collapsed": true
   },
   "outputs": [],
   "source": []
  }
 ],
 "metadata": {
  "kernelspec": {
   "display_name": "Python 3",
   "language": "python",
   "name": "python3"
  },
  "language_info": {
   "codemirror_mode": {
    "name": "ipython",
    "version": 3
   },
   "file_extension": ".py",
   "mimetype": "text/x-python",
   "name": "python",
   "nbconvert_exporter": "python",
   "pygments_lexer": "ipython3",
   "version": "3.6.5"
  }
 },
 "nbformat": 4,
 "nbformat_minor": 2
}

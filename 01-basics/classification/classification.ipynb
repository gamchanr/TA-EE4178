{
 "cells": [
  {
   "cell_type": "markdown",
   "metadata": {},
   "source": [
    "# Classification\n",
    "<hr>"
   ]
  },
  {
   "cell_type": "markdown",
   "metadata": {},
   "source": [
    "## 1. Binary Classification (XOR)"
   ]
  },
  {
   "cell_type": "markdown",
   "metadata": {},
   "source": [
    "#### (1) Load Data"
   ]
  },
  {
   "cell_type": "code",
   "execution_count": 1,
   "metadata": {
    "collapsed": true
   },
   "outputs": [],
   "source": [
    "import torch"
   ]
  },
  {
   "cell_type": "code",
   "execution_count": 2,
   "metadata": {
    "collapsed": true
   },
   "outputs": [],
   "source": [
    "train_data = torch.tensor([[0.,0.], [0.,1.], [1.,0.], [1.,1.]], requires_grad=True)\n",
    "targets = torch.tensor([0.,1.,1.,0.]).view(-1, 1)"
   ]
  },
  {
   "cell_type": "markdown",
   "metadata": {},
   "source": [
    "#### <strike>(2) Define Dataloader</strike>"
   ]
  },
  {
   "cell_type": "markdown",
   "metadata": {},
   "source": [
    "- Doesn't Need PyTorch Built-in Dataloader for Small Data\n",
    "- Doesn't Need Custom Dataloader for No Preprocessing Required Data"
   ]
  },
  {
   "cell_type": "markdown",
   "metadata": {},
   "source": [
    "#### (3) Define Model"
   ]
  },
  {
   "cell_type": "code",
   "execution_count": 3,
   "metadata": {
    "collapsed": true
   },
   "outputs": [],
   "source": [
    "import torch.nn as nn"
   ]
  },
  {
   "cell_type": "code",
   "execution_count": 4,
   "metadata": {
    "collapsed": true
   },
   "outputs": [],
   "source": [
    "class Net(nn.Module):\n",
    "    def __init__(self):\n",
    "        super(Net, self).__init__()\n",
    "        self.fc1 = nn.Linear(2, 3)\n",
    "        self.fc2 = nn.Linear(3, 1)\n",
    "        \n",
    "    def forward(self, x):\n",
    "        x = torch.sigmoid(self.fc1(x))\n",
    "        x = torch.sigmoid(self.fc2(x))\n",
    "        return x\n",
    "        \n",
    "model = Net()"
   ]
  },
  {
   "cell_type": "code",
   "execution_count": 5,
   "metadata": {},
   "outputs": [
    {
     "name": "stdout",
     "output_type": "stream",
     "text": [
      "Net(\n",
      "  (fc1): Linear(in_features=2, out_features=3, bias=True)\n",
      "  (fc2): Linear(in_features=3, out_features=1, bias=True)\n",
      ")\n"
     ]
    }
   ],
   "source": [
    "# check which layers consist Network\n",
    "print(model)"
   ]
  },
  {
   "cell_type": "markdown",
   "metadata": {},
   "source": [
    "#### (4) Set Loss & Optimizer"
   ]
  },
  {
   "cell_type": "code",
   "execution_count": 6,
   "metadata": {
    "collapsed": true
   },
   "outputs": [],
   "source": [
    "criterion = nn.MSELoss()\n",
    "optimizer = torch.optim.SGD(model.parameters(), lr=0.05)"
   ]
  },
  {
   "cell_type": "markdown",
   "metadata": {},
   "source": [
    "#### (5) Train / Test"
   ]
  },
  {
   "cell_type": "code",
   "execution_count": 7,
   "metadata": {
    "collapsed": true
   },
   "outputs": [],
   "source": [
    "import numpy as np # To Check Trained Parameters"
   ]
  },
  {
   "cell_type": "code",
   "execution_count": 8,
   "metadata": {},
   "outputs": [
    {
     "name": "stdout",
     "output_type": "stream",
     "text": [
      "Epoch:        0 | Loss: 0.386753 | Output: 0.621895 | Target: 0.0\n",
      "Epoch:     1000 | Loss: 0.256517 | Output: 0.493525 | Target: 1.0\n",
      "Epoch:     2000 | Loss: 0.249916 | Output: 0.500084 | Target: 1.0\n",
      "Epoch:     3000 | Loss: 0.249716 | Output: 0.499716 | Target: 0.0\n",
      "Epoch:     4000 | Loss: 0.256097 | Output: 0.506060 | Target: 0.0\n",
      "Epoch:     5000 | Loss: 0.250459 | Output: 0.499542 | Target: 1.0\n",
      "Epoch:     6000 | Loss: 0.258061 | Output: 0.492003 | Target: 1.0\n",
      "Epoch:     7000 | Loss: 0.248149 | Output: 0.498145 | Target: 0.0\n",
      "Epoch:     8000 | Loss: 0.238017 | Output: 0.487870 | Target: 0.0\n",
      "Epoch:     9000 | Loss: 0.067338 | Output: 0.740505 | Target: 1.0\n",
      "Epoch:    10000 | Loss: 0.254173 | Output: 0.495845 | Target: 1.0\n",
      "Epoch:    11000 | Loss: 0.035148 | Output: 0.187477 | Target: 0.0\n",
      "Epoch:    12000 | Loss: 0.006264 | Output: 0.079144 | Target: 0.0\n",
      "Epoch:    13000 | Loss: 0.004535 | Output: 0.932659 | Target: 1.0\n",
      "Epoch:    14000 | Loss: 0.007056 | Output: 0.916000 | Target: 1.0\n",
      "-----------------------------------------------------------------\n",
      "Trained Parameters:\n",
      "fc1.weight torch.Size([3, 2]) \n",
      " [[-5.95  5.1 ]\n",
      " [-3.33  5.17]\n",
      " [-3.97 -2.45]]\n",
      "fc1.bias torch.Size([3]) \n",
      " [-2.77  1.06  0.38]\n",
      "fc2.weight torch.Size([1, 3]) \n",
      " [[ 7.06 -6.35 -3.59]]\n",
      "fc2.bias torch.Size([1]) \n",
      " [3.24]\n",
      "-----------------------------------------------------------------\n",
      "Final results:\n",
      "Input: tensor([0., 0.]) | Output: 0.039649 | Target: 0.0\n",
      "Input: tensor([0., 1.]) | Output: 0.949565 | Target: 1.0\n",
      "Input: tensor([1., 0.]) | Output: 0.927613 | Target: 1.0\n",
      "Input: tensor([1., 1.]) | Output: 0.069150 | Target: 0.0\n"
     ]
    }
   ],
   "source": [
    "epochs = 15000\n",
    "for idx in range(epochs):\n",
    "    for i, (input, target) in enumerate(zip(train_data, targets)):\n",
    "        # Forward Propagation\n",
    "        output = model(input)\n",
    "        \n",
    "        # Get Loss, Compute Gradient, Update Parameters\n",
    "        loss = criterion(output, target)\n",
    "        optimizer.zero_grad()\n",
    "        loss.backward()\n",
    "        optimizer.step()\n",
    "        \n",
    "        # Print Loss for Tracking Training\n",
    "        if idx % 1000 == 0 and (idx//1000)%4 == i:\n",
    "            print(\"Epoch: {: >8} | Loss: {:8f} | Output: {:4f} | Target: {}\".format(idx, loss, output.data[0], target.data[0]))\n",
    "            \n",
    "# Test after Training is done\n",
    "with torch.no_grad():\n",
    "    print(\"-----------------------------------------------------------------\")\n",
    "    print(\"Trained Parameters:\")\n",
    "    for name, param in model.named_parameters():\n",
    "        if param.requires_grad:\n",
    "            print(name, param.data.size(), '\\n', np.round_(param.data.numpy(),2))\n",
    "            \n",
    "    print(\"-----------------------------------------------------------------\")\n",
    "    print(\"Final results:\")\n",
    "    for input, target in zip(train_data, targets):\n",
    "        output = model(input)\n",
    "        print(\"Input: {} | Output: {:4f} | Target: {}\".format(input.data, output.data[0], target.data[0]))"
   ]
  },
  {
   "cell_type": "markdown",
   "metadata": {
    "collapsed": true
   },
   "source": [
    "<hr id=\"border1\">"
   ]
  },
  {
   "cell_type": "markdown",
   "metadata": {},
   "source": [
    "## 2. Multi-class Classification (MNIST)"
   ]
  },
  {
   "cell_type": "markdown",
   "metadata": {},
   "source": [
    "#### (0) Define Hyper-parameters"
   ]
  },
  {
   "cell_type": "code",
   "execution_count": 9,
   "metadata": {
    "collapsed": true
   },
   "outputs": [],
   "source": [
    "import torch"
   ]
  },
  {
   "cell_type": "code",
   "execution_count": 10,
   "metadata": {
    "collapsed": true
   },
   "outputs": [],
   "source": [
    "# Device configuration\n",
    "device = torch.device('cuda' if torch.cuda.is_available() else 'cpu')\n",
    "\n",
    "# Hyper-parameters\n",
    "input_size = 784\n",
    "hidden_size = 500\n",
    "num_classes = 10\n",
    "num_epochs = 5\n",
    "batch_size = 100\n",
    "learning_rate = 0.001"
   ]
  },
  {
   "cell_type": "markdown",
   "metadata": {},
   "source": [
    "#### (1) Load Data"
   ]
  },
  {
   "cell_type": "code",
   "execution_count": 11,
   "metadata": {
    "collapsed": true
   },
   "outputs": [],
   "source": [
    "import torchvision\n",
    "import torchvision.transforms as transforms"
   ]
  },
  {
   "cell_type": "code",
   "execution_count": 12,
   "metadata": {
    "collapsed": true
   },
   "outputs": [],
   "source": [
    "train_dataset = torchvision.datasets.MNIST(root='./datasets',\n",
    "                                           train=True,\n",
    "                                           transform=transforms.ToTensor(),\n",
    "                                           download=True)\n",
    "\n",
    "test_dataset = torchvision.datasets.MNIST(root='./datasets',\n",
    "                                          train=False,\n",
    "                                          transform=transforms.ToTensor())"
   ]
  },
  {
   "cell_type": "code",
   "execution_count": 13,
   "metadata": {},
   "outputs": [
    {
     "name": "stdout",
     "output_type": "stream",
     "text": [
      "60000 torch.Size([1, 28, 28]) tensor(5)\n",
      "10000 torch.Size([1, 28, 28]) tensor(7)\n"
     ]
    }
   ],
   "source": [
    "# cf) check for the data\n",
    "image, label = train_dataset[0]\n",
    "print(len(train_dataset), image.size(), label)\n",
    "image, label = test_dataset[0]\n",
    "print(len(test_dataset), image.size(), label)"
   ]
  },
  {
   "cell_type": "markdown",
   "metadata": {},
   "source": [
    "#### (2) Define Dataloader"
   ]
  },
  {
   "cell_type": "code",
   "execution_count": 14,
   "metadata": {
    "collapsed": true
   },
   "outputs": [],
   "source": [
    "data_loader = torch.utils.data.DataLoader(dataset=train_dataset,\n",
    "                                           batch_size=batch_size,\n",
    "                                           shuffle=True)\n",
    "\n",
    "test_loader = torch.utils.data.DataLoader(dataset=test_dataset,\n",
    "                                          batch_size=batch_size,\n",
    "                                          shuffle=False)"
   ]
  },
  {
   "cell_type": "code",
   "execution_count": 15,
   "metadata": {},
   "outputs": [
    {
     "name": "stdout",
     "output_type": "stream",
     "text": [
      "600\n",
      "torch.Size([100, 1, 28, 28]) tensor([7, 2, 0, 8, 2, 0, 7, 5, 6, 1, 9, 7, 7, 4, 1, 1, 6, 3, 2, 2, 6, 5, 7, 8,\n",
      "        4, 6, 6, 3, 5, 6, 3, 2, 5, 4, 0, 7, 2, 7, 9, 6, 7, 2, 6, 3, 7, 1, 4, 4,\n",
      "        6, 9, 2, 9, 6, 0, 3, 4, 7, 6, 3, 5, 4, 2, 0, 4, 0, 2, 3, 8, 4, 9, 6, 0,\n",
      "        0, 4, 3, 1, 3, 7, 5, 9, 4, 8, 9, 4, 3, 3, 1, 0, 1, 4, 0, 5, 3, 2, 5, 4,\n",
      "        8, 2, 0, 3])\n",
      "torch.Size([100, 1, 28, 28]) tensor([6, 5, 3, 4, 2, 9, 1, 0, 3, 9, 9, 3, 1, 6, 7, 9, 5, 9, 5, 3, 0, 3, 1, 3,\n",
      "        1, 5, 0, 7, 2, 2, 3, 1, 2, 9, 8, 3, 6, 2, 1, 2, 0, 4, 7, 7, 6, 5, 7, 6,\n",
      "        1, 8, 8, 1, 7, 0, 7, 2, 6, 1, 6, 0, 4, 8, 2, 7, 1, 4, 0, 0, 7, 4, 1, 0,\n",
      "        9, 7, 7, 5, 6, 2, 2, 8, 4, 3, 1, 2, 0, 4, 1, 0, 0, 6, 2, 0, 5, 4, 3, 7,\n",
      "        7, 7, 4, 6])\n",
      "torch.Size([100, 1, 28, 28]) tensor([4, 1, 2, 2, 5, 4, 7, 4, 9, 2, 0, 5, 0, 8, 7, 9, 2, 1, 6, 4, 1, 6, 5, 2,\n",
      "        3, 4, 8, 1, 4, 1, 5, 9, 0, 8, 4, 7, 0, 7, 4, 0, 2, 4, 5, 3, 9, 7, 3, 4,\n",
      "        0, 3, 8, 5, 6, 0, 2, 4, 7, 7, 2, 0, 4, 2, 3, 9, 9, 5, 6, 7, 6, 0, 4, 8,\n",
      "        9, 2, 0, 9, 4, 0, 9, 1, 1, 7, 9, 5, 3, 0, 1, 1, 5, 4, 9, 5, 8, 5, 4, 4,\n",
      "        1, 6, 3, 6])\n"
     ]
    }
   ],
   "source": [
    "# cf) check how data_loader works\n",
    "print(len(data_loader))\n",
    "for idx, (images, labels) in enumerate(data_loader):\n",
    "    if idx == 3:\n",
    "        break\n",
    "    print(images.size(), labels)"
   ]
  },
  {
   "cell_type": "markdown",
   "metadata": {},
   "source": [
    "#### (3) Define Model"
   ]
  },
  {
   "cell_type": "code",
   "execution_count": 16,
   "metadata": {
    "collapsed": true
   },
   "outputs": [],
   "source": [
    "import torch.nn as nn"
   ]
  },
  {
   "cell_type": "code",
   "execution_count": 17,
   "metadata": {
    "collapsed": true
   },
   "outputs": [],
   "source": [
    "class Net(nn.Module):\n",
    "    def __init__(self, input_size, hidden_size, num_classes):\n",
    "        super(Net, self).__init__()\n",
    "        self.fc1 = nn.Linear(input_size, hidden_size)\n",
    "        self.relu = nn.ReLU()\n",
    "        self.fc2 = nn.Linear(hidden_size, num_classes)\n",
    "\n",
    "    def forward(self, x):\n",
    "        x = self.fc1(x)\n",
    "        x = self.relu(x)\n",
    "        x = self.fc2(x)\n",
    "        return x\n",
    "\n",
    "model = Net(input_size, hidden_size, num_classes).to(device)\n"
   ]
  },
  {
   "cell_type": "code",
   "execution_count": 18,
   "metadata": {},
   "outputs": [
    {
     "name": "stdout",
     "output_type": "stream",
     "text": [
      "Net(\n",
      "  (fc1): Linear(in_features=784, out_features=500, bias=True)\n",
      "  (relu): ReLU()\n",
      "  (fc2): Linear(in_features=500, out_features=10, bias=True)\n",
      ")\n"
     ]
    }
   ],
   "source": [
    "# check which layers consist Network\n",
    "print(model)"
   ]
  },
  {
   "cell_type": "code",
   "execution_count": 19,
   "metadata": {},
   "outputs": [
    {
     "name": "stdout",
     "output_type": "stream",
     "text": [
      "torch.Size([100, 10]) \n",
      " tensor([-0.1064, -0.0380,  0.0937, -0.1961,  0.0783,  0.0244, -0.1114, -0.0569,\n",
      "         0.0372, -0.0998], grad_fn=<SelectBackward>) \n",
      " 2\n"
     ]
    }
   ],
   "source": [
    "# cf) check how data passes through the Network\n",
    "data_iter = iter(data_loader)\n",
    "images, labels = data_iter.next()\n",
    "images = images.reshape(-1, 28*28) # reshape dimensions of the input images to fit model\n",
    "outputs = model(images)\n",
    "print(outputs.size(), '\\n', outputs[0], '\\n', outputs[0].tolist().index(max(outputs[0])))"
   ]
  },
  {
   "cell_type": "markdown",
   "metadata": {},
   "source": [
    "#### (4) Set Loss & Optimizer"
   ]
  },
  {
   "cell_type": "code",
   "execution_count": 20,
   "metadata": {
    "collapsed": true
   },
   "outputs": [],
   "source": [
    "criterion = nn.CrossEntropyLoss()\n",
    "optimizer = torch.optim.Adam(model.parameters(), lr=learning_rate)"
   ]
  },
  {
   "cell_type": "markdown",
   "metadata": {},
   "source": [
    "#### (5) Train / Test"
   ]
  },
  {
   "cell_type": "code",
   "execution_count": 21,
   "metadata": {},
   "outputs": [
    {
     "name": "stdout",
     "output_type": "stream",
     "text": [
      "Epoch [1/5], Step [100/600], Loss: 0.2600\n",
      "Epoch [1/5], Step [200/600], Loss: 0.3039\n",
      "Epoch [1/5], Step [300/600], Loss: 0.2665\n",
      "Epoch [1/5], Step [400/600], Loss: 0.0927\n",
      "Epoch [1/5], Step [500/600], Loss: 0.1152\n",
      "Epoch [1/5], Step [600/600], Loss: 0.1747\n",
      "Epoch [2/5], Step [100/600], Loss: 0.0834\n",
      "Epoch [2/5], Step [200/600], Loss: 0.0530\n",
      "Epoch [2/5], Step [300/600], Loss: 0.0509\n",
      "Epoch [2/5], Step [400/600], Loss: 0.0786\n",
      "Epoch [2/5], Step [500/600], Loss: 0.0503\n",
      "Epoch [2/5], Step [600/600], Loss: 0.1207\n",
      "Epoch [3/5], Step [100/600], Loss: 0.0264\n",
      "Epoch [3/5], Step [200/600], Loss: 0.0347\n",
      "Epoch [3/5], Step [300/600], Loss: 0.0488\n",
      "Epoch [3/5], Step [400/600], Loss: 0.0590\n",
      "Epoch [3/5], Step [500/600], Loss: 0.0625\n",
      "Epoch [3/5], Step [600/600], Loss: 0.0399\n",
      "Epoch [4/5], Step [100/600], Loss: 0.0393\n",
      "Epoch [4/5], Step [200/600], Loss: 0.0299\n",
      "Epoch [4/5], Step [300/600], Loss: 0.0528\n",
      "Epoch [4/5], Step [400/600], Loss: 0.0311\n",
      "Epoch [4/5], Step [500/600], Loss: 0.0394\n",
      "Epoch [4/5], Step [600/600], Loss: 0.0839\n",
      "Epoch [5/5], Step [100/600], Loss: 0.0339\n",
      "Epoch [5/5], Step [200/600], Loss: 0.0152\n",
      "Epoch [5/5], Step [300/600], Loss: 0.0103\n",
      "Epoch [5/5], Step [400/600], Loss: 0.0161\n",
      "Epoch [5/5], Step [500/600], Loss: 0.0115\n",
      "Epoch [5/5], Step [600/600], Loss: 0.0161\n",
      "Accuracy of the network on the 10000 test images: 97.54 %\n"
     ]
    }
   ],
   "source": [
    "for epoch in range(num_epochs):\n",
    "    for i, (images, labels) in enumerate(data_loader):\n",
    "        # Assign Tensors to Configured Device\n",
    "        images = images.reshape(-1, 28*28).to(device) # reshape dimensions of the input images to fit model\n",
    "        labels = labels.to(device)\n",
    "\n",
    "        # Forward Propagation\n",
    "        outputs = model(images)\n",
    "\n",
    "        # Get Loss, Compute Gradient, Update Parameters\n",
    "        loss = criterion(outputs, labels)\n",
    "        optimizer.zero_grad()\n",
    "        loss.backward()\n",
    "        optimizer.step()\n",
    "\n",
    "        # Print Loss for Tracking Training\n",
    "        if (i+1) % 100 == 0:\n",
    "            print ('Epoch [{}/{}], Step [{}/{}], Loss: {:.4f}'.format(epoch+1, num_epochs, i+1, len(data_loader), loss.item()))\n",
    "\n",
    "# Test after Training is done\n",
    "with torch.no_grad():\n",
    "    correct = 0\n",
    "    total = 0\n",
    "    for images, labels in test_loader:\n",
    "        images = images.reshape(-1, 28*28).to(device) # reshape dimensions of the input images to fit model\n",
    "        labels = labels.to(device)\n",
    "        outputs = model(images)\n",
    "        _, predicted = torch.max(outputs.data, 1)\n",
    "        total += labels.size(0)\n",
    "        correct += (predicted == labels).sum().item()\n",
    "\n",
    "    print('Accuracy of the network on the 10000 test images: {} %'.format(100 * correct / total))"
   ]
  },
  {
   "cell_type": "markdown",
   "metadata": {},
   "source": [
    "#### (6) Save & Visualization"
   ]
  },
  {
   "cell_type": "code",
   "execution_count": 22,
   "metadata": {
    "collapsed": true
   },
   "outputs": [],
   "source": [
    "torch.save(model.state_dict(), 'model.pth')"
   ]
  }
 ],
 "metadata": {
  "kernelspec": {
   "display_name": "Python 3",
   "language": "python",
   "name": "python3"
  },
  "language_info": {
   "codemirror_mode": {
    "name": "ipython",
    "version": 3
   },
   "file_extension": ".py",
   "mimetype": "text/x-python",
   "name": "python",
   "nbconvert_exporter": "python",
   "pygments_lexer": "ipython3",
   "version": "3.6.5"
  }
 },
 "nbformat": 4,
 "nbformat_minor": 2
}

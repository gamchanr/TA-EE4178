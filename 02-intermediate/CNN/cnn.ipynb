{
 "cells": [
  {
   "cell_type": "markdown",
   "metadata": {},
   "source": [
    "# CNN (Convolutional Neural Network)"
   ]
  },
  {
   "cell_type": "markdown",
   "metadata": {},
   "source": [
    "## - MNIST [[See the Result First](#visualized)]"
   ]
  },
  {
   "cell_type": "markdown",
   "metadata": {},
   "source": [
    "#### (0) Define Hyper-parameters / Helper Function"
   ]
  },
  {
   "cell_type": "code",
   "execution_count": 1,
   "metadata": {
    "collapsed": true
   },
   "outputs": [],
   "source": [
    "import torch"
   ]
  },
  {
   "cell_type": "code",
   "execution_count": 2,
   "metadata": {
    "collapsed": true
   },
   "outputs": [],
   "source": [
    "# Device Configuration for Where the Tensors Be Operated\n",
    "device = torch.device('cuda' if torch.cuda.is_available() else 'cpu')\n",
    "\n",
    "# Adjust Model Structure Depends on the Data\n",
    "num_classes = 10\n",
    "in_channel = 1\n",
    "\n",
    "# Hyper-parameters\n",
    "batch_size = 10\n",
    "shuffle = False\n",
    "max_pool_kernel = 2\n",
    "learning_rate = 0.00001\n",
    "num_epochs = 3"
   ]
  },
  {
   "cell_type": "markdown",
   "metadata": {},
   "source": [
    "#### (1) Load Data"
   ]
  },
  {
   "cell_type": "code",
   "execution_count": 3,
   "metadata": {
    "collapsed": true
   },
   "outputs": [],
   "source": [
    "import torchvision # To Download MNIST Datasets from Torch \n",
    "import torchvision.transforms as transforms # To Transform MNIST \"Images\" to \"Tensor\""
   ]
  },
  {
   "cell_type": "code",
   "execution_count": 4,
   "metadata": {
    "collapsed": true
   },
   "outputs": [],
   "source": [
    "train_data = torchvision.datasets.MNIST(root='./datasets',\n",
    "                                        train=True,\n",
    "                                        transform=transforms.ToTensor(),\n",
    "                                        download=True)\n",
    "\n",
    "test_data = torchvision.datasets.MNIST(root='./datasets',\n",
    "                                       train=False,\n",
    "                                       transform=transforms.ToTensor())"
   ]
  },
  {
   "cell_type": "markdown",
   "metadata": {},
   "source": [
    "#### (2) Define Dataloader"
   ]
  },
  {
   "cell_type": "code",
   "execution_count": 5,
   "metadata": {
    "collapsed": true
   },
   "outputs": [],
   "source": [
    "train_loader = torch.utils.data.DataLoader(dataset=train_data,\n",
    "                                           batch_size=batch_size,\n",
    "                                           shuffle=shuffle)\n",
    "\n",
    "test_loader = torch.utils.data.DataLoader(dataset=test_data,\n",
    "                                          batch_size=batch_size,\n",
    "                                          shuffle=True)"
   ]
  },
  {
   "cell_type": "code",
   "execution_count": 6,
   "metadata": {},
   "outputs": [
    {
     "name": "stdout",
     "output_type": "stream",
     "text": [
      "torch.Size([10, 1, 28, 28]) : [Batch, Channel, Height, Width] Respectively\n"
     ]
    }
   ],
   "source": [
    "# cf) check how data_loader works\n",
    "image, label = next(iter(train_loader))\n",
    "print(image.size(), \": [Batch, Channel, Height, Width] Respectively\")"
   ]
  },
  {
   "cell_type": "markdown",
   "metadata": {},
   "source": [
    "#### (3) Define Model"
   ]
  },
  {
   "cell_type": "code",
   "execution_count": 7,
   "metadata": {
    "collapsed": true
   },
   "outputs": [],
   "source": [
    "import torch.nn as nn\n",
    "import torch.nn.functional as F"
   ]
  },
  {
   "cell_type": "code",
   "execution_count": 8,
   "metadata": {
    "collapsed": true
   },
   "outputs": [],
   "source": [
    "class ConvNet(nn.Module):\n",
    "    def __init__(self, num_classes=10):\n",
    "        super(ConvNet, self).__init__()\n",
    "        self.layer1 = nn.Sequential(\n",
    "                nn.Conv2d(in_channel, 16, 5, stride=1, padding=2),\n",
    "                nn.BatchNorm2d(16),\n",
    "                nn.ReLU(),\n",
    "                nn.MaxPool2d(max_pool_kernel))\n",
    "        self.layer2 = nn.Sequential(\n",
    "                nn.Conv2d(16, 32, 5, stride=1, padding=2),\n",
    "                nn.BatchNorm2d(32),\n",
    "                nn.ReLU(),\n",
    "                nn.MaxPool2d(max_pool_kernel))\n",
    "        self.fc1 = nn.Linear(7*7*32, 120)\n",
    "        self.fc2 = nn.Linear(120, num_classes)\n",
    "\n",
    "    def forward(self, x):\n",
    "        x = self.layer1(x)\n",
    "        x = self.layer2(x)\n",
    "        x = x.reshape(x.size(0), -1)\n",
    "        x = F.relu(self.fc1(x))\n",
    "        x = F.softmax(self.fc2(x))\n",
    "        return x\n",
    "\n",
    "#class ConvNet(nn.Module):\n",
    "#    def __init__(self, num_classes=10):\n",
    "#        super(ConvNet, self).__init__()\n",
    "#        self.layer1 = nn.Sequential(\n",
    "#                nn.Conv2d(in_channel, 16, 5, stride=1, padding=2),\n",
    "#                nn.BatchNorm2d(16),\n",
    "#                nn.ReLU(),\n",
    "#                nn.MaxPool2d(max_pool_kernel))\n",
    "#        self.fc1 = nn.Linear(14*14*16, num_classes)\n",
    "#\n",
    "#    def forward(self, x):\n",
    "#        x = self.layer1(x)\n",
    "#        x = x.reshape(x.size(0), -1)\n",
    "#        x = F.softmax(self.fc1(x))\n",
    "#        return x\n",
    "\n",
    "model = ConvNet(num_classes).to(device) # Copy All Tensors to GPU (if possible)"
   ]
  },
  {
   "cell_type": "code",
   "execution_count": 9,
   "metadata": {},
   "outputs": [
    {
     "name": "stdout",
     "output_type": "stream",
     "text": [
      "ConvNet(\n",
      "  (layer1): Sequential(\n",
      "    (0): Conv2d(1, 16, kernel_size=(5, 5), stride=(1, 1), padding=(2, 2))\n",
      "    (1): BatchNorm2d(16, eps=1e-05, momentum=0.1, affine=True, track_running_stats=True)\n",
      "    (2): ReLU()\n",
      "    (3): MaxPool2d(kernel_size=2, stride=2, padding=0, dilation=1, ceil_mode=False)\n",
      "  )\n",
      "  (layer2): Sequential(\n",
      "    (0): Conv2d(16, 32, kernel_size=(5, 5), stride=(1, 1), padding=(2, 2))\n",
      "    (1): BatchNorm2d(32, eps=1e-05, momentum=0.1, affine=True, track_running_stats=True)\n",
      "    (2): ReLU()\n",
      "    (3): MaxPool2d(kernel_size=2, stride=2, padding=0, dilation=1, ceil_mode=False)\n",
      "  )\n",
      "  (fc1): Linear(in_features=1568, out_features=120, bias=True)\n",
      "  (fc2): Linear(in_features=120, out_features=10, bias=True)\n",
      ")\n",
      "layer1.0.weight \t torch.Size([16, 1, 5, 5])\n",
      "layer1.0.bias \t torch.Size([16])\n",
      "layer1.1.weight \t torch.Size([16])\n",
      "layer1.1.bias \t torch.Size([16])\n",
      "layer1.1.running_mean \t torch.Size([16])\n",
      "layer1.1.running_var \t torch.Size([16])\n",
      "layer1.1.num_batches_tracked \t torch.Size([])\n",
      "layer2.0.weight \t torch.Size([32, 16, 5, 5])\n",
      "layer2.0.bias \t torch.Size([32])\n",
      "layer2.1.weight \t torch.Size([32])\n",
      "layer2.1.bias \t torch.Size([32])\n",
      "layer2.1.running_mean \t torch.Size([32])\n",
      "layer2.1.running_var \t torch.Size([32])\n",
      "layer2.1.num_batches_tracked \t torch.Size([])\n",
      "fc1.weight \t torch.Size([120, 1568])\n",
      "fc1.bias \t torch.Size([120])\n",
      "fc2.weight \t torch.Size([10, 120])\n",
      "fc2.bias \t torch.Size([10])\n"
     ]
    }
   ],
   "source": [
    "# cf) see how the network is formed\n",
    "print(model)\n",
    "\n",
    "# cf) number of parameters\n",
    "for param_tensor in model.state_dict():\n",
    "    print(param_tensor, \"\\t\", model.state_dict()[param_tensor].size())"
   ]
  },
  {
   "cell_type": "markdown",
   "metadata": {},
   "source": [
    "<img src=\"../../shared/softmax.png\" alt=\"Drawing\" style=\"width: 800px;\" align=\"left\"/>"
   ]
  },
  {
   "cell_type": "markdown",
   "metadata": {},
   "source": [
    "#### (4) Set Loss & Optimizer"
   ]
  },
  {
   "cell_type": "code",
   "execution_count": 10,
   "metadata": {
    "collapsed": true
   },
   "outputs": [],
   "source": [
    "criterion = nn.CrossEntropyLoss()\n",
    "optimizer = torch.optim.Adam(model.parameters(), lr=learning_rate)"
   ]
  },
  {
   "cell_type": "markdown",
   "metadata": {},
   "source": [
    "#### (5) Train / Test"
   ]
  },
  {
   "cell_type": "code",
   "execution_count": 11,
   "metadata": {},
   "outputs": [
    {
     "name": "stderr",
     "output_type": "stream",
     "text": [
      "/usr/local/lib/python3.6/site-packages/ipykernel_launcher.py:22: UserWarning: Implicit dimension choice for softmax has been deprecated. Change the call to include dim=X as an argument.\n"
     ]
    },
    {
     "name": "stdout",
     "output_type": "stream",
     "text": [
      "Epoch [1/3], Step [100/6000], Loss: 2.2714\n",
      "Testing data: [Predicted: tensor([3, 1, 1, 3, 3, 4, 4, 3, 3, 3]) / Real: tensor([0, 4, 7, 3, 5, 2, 4, 9, 7, 4])]\n",
      "Epoch [1/3], Step [200/6000], Loss: 2.2739\n",
      "Testing data: [Predicted: tensor([1, 3, 1, 0, 3, 9, 1, 1, 4, 1]) / Real: tensor([2, 5, 7, 5, 2, 7, 1, 1, 4, 1])]\n",
      "Epoch [1/3], Step [300/6000], Loss: 2.2150\n",
      "Testing data: [Predicted: tensor([3, 1, 4, 3, 6, 1, 1, 9, 0, 3]) / Real: tensor([5, 1, 4, 2, 6, 1, 9, 9, 6, 5])]\n",
      "Epoch [1/3], Step [400/6000], Loss: 2.1278\n",
      "Testing data: [Predicted: tensor([0, 4, 1, 0, 4, 4, 4, 1, 7, 1]) / Real: tensor([9, 9, 1, 5, 4, 9, 8, 1, 9, 1])]\n",
      "Epoch [1/3], Step [500/6000], Loss: 2.0572\n",
      "Testing data: [Predicted: tensor([0, 0, 1, 4, 0, 1, 0, 1, 3, 0]) / Real: tensor([0, 0, 2, 4, 0, 8, 0, 8, 5, 6])]\n",
      "Epoch [1/3], Step [600/6000], Loss: 2.0962\n",
      "Testing data: [Predicted: tensor([0, 3, 0, 7, 3, 1, 1, 7, 3, 1]) / Real: tensor([6, 3, 0, 9, 8, 1, 8, 7, 2, 1])]\n",
      "Epoch [1/3], Step [700/6000], Loss: 2.1239\n",
      "Testing data: [Predicted: tensor([1, 3, 6, 7, 0, 6, 0, 4, 2, 0]) / Real: tensor([1, 3, 6, 9, 0, 6, 5, 9, 2, 0])]\n",
      "Epoch [1/3], Step [800/6000], Loss: 1.8992\n",
      "Testing data: [Predicted: tensor([1, 4, 4, 7, 0, 7, 7, 6, 6, 3]) / Real: tensor([1, 9, 9, 9, 0, 7, 9, 6, 6, 3])]\n",
      "Epoch [1/3], Step [900/6000], Loss: 1.8086\n",
      "Testing data: [Predicted: tensor([3, 4, 3, 4, 7, 4, 3, 0, 0, 0]) / Real: tensor([3, 8, 3, 4, 9, 4, 3, 0, 0, 0])]\n",
      "Epoch [1/3], Step [1000/6000], Loss: 1.9397\n",
      "Testing data: [Predicted: tensor([6, 6, 4, 1, 6, 2, 3, 7, 3, 2]) / Real: tensor([6, 6, 4, 4, 6, 8, 3, 7, 3, 2])]\n",
      "Epoch [1/3], Step [1100/6000], Loss: 1.7851\n",
      "Testing data: [Predicted: tensor([7, 0, 6, 2, 3, 4, 1, 7, 7, 3]) / Real: tensor([7, 0, 6, 7, 3, 4, 3, 8, 9, 3])]\n",
      "Epoch [1/3], Step [1200/6000], Loss: 1.9317\n",
      "Testing data: [Predicted: tensor([3, 4, 4, 5, 0, 5, 4, 5, 5, 5]) / Real: tensor([5, 9, 4, 5, 0, 8, 4, 5, 5, 5])]\n",
      "Epoch [1/3], Step [1300/6000], Loss: 1.7545\n",
      "Testing data: [Predicted: tensor([7, 4, 0, 1, 4, 3, 5, 3, 6, 2]) / Real: tensor([9, 4, 0, 1, 4, 5, 5, 3, 2, 2])]\n",
      "Epoch [1/3], Step [1400/6000], Loss: 1.9976\n",
      "Testing data: [Predicted: tensor([1, 9, 1, 7, 9, 1, 1, 3, 1, 9]) / Real: tensor([1, 9, 1, 7, 4, 1, 1, 3, 1, 9])]\n",
      "Epoch [1/3], Step [1500/6000], Loss: 1.8562\n",
      "Testing data: [Predicted: tensor([7, 3, 1, 2, 2, 9, 7, 0, 4, 4]) / Real: tensor([7, 8, 1, 3, 2, 9, 7, 0, 4, 4])]\n",
      "Epoch [1/3], Step [1600/6000], Loss: 1.6617\n",
      "Testing data: [Predicted: tensor([1, 0, 4, 5, 7, 1, 1, 2, 0, 3]) / Real: tensor([1, 0, 9, 8, 7, 1, 1, 8, 0, 3])]\n",
      "Epoch [1/3], Step [1700/6000], Loss: 1.8715\n",
      "Testing data: [Predicted: tensor([3, 2, 6, 7, 4, 9, 9, 9, 7, 1]) / Real: tensor([3, 8, 0, 7, 4, 9, 5, 9, 7, 1])]\n",
      "Epoch [1/3], Step [1800/6000], Loss: 1.7305\n",
      "Testing data: [Predicted: tensor([1, 0, 5, 9, 9, 7, 3, 3, 2, 9]) / Real: tensor([8, 0, 5, 9, 8, 7, 3, 5, 2, 8])]\n",
      "Epoch [1/3], Step [1900/6000], Loss: 1.7610\n",
      "Testing data: [Predicted: tensor([5, 6, 5, 3, 9, 5, 2, 3, 4, 3]) / Real: tensor([8, 6, 9, 8, 4, 5, 8, 3, 4, 3])]\n",
      "Epoch [1/3], Step [2000/6000], Loss: 1.7140\n",
      "Testing data: [Predicted: tensor([1, 9, 1, 3, 7, 2, 9, 2, 0, 3]) / Real: tensor([1, 8, 1, 8, 7, 2, 5, 2, 0, 3])]\n",
      "Epoch [1/3], Step [2100/6000], Loss: 1.6577\n",
      "Testing data: [Predicted: tensor([5, 2, 2, 1, 3, 4, 1, 3, 3, 6]) / Real: tensor([8, 8, 2, 1, 3, 4, 1, 3, 3, 4])]\n",
      "Epoch [1/3], Step [2200/6000], Loss: 1.6296\n",
      "Testing data: [Predicted: tensor([6, 5, 2, 1, 2, 9, 5, 4, 9, 3]) / Real: tensor([6, 6, 2, 1, 2, 9, 5, 9, 9, 3])]\n",
      "Epoch [1/3], Step [2300/6000], Loss: 1.5364\n",
      "Testing data: [Predicted: tensor([2, 6, 7, 4, 5, 3, 0, 1, 4, 3]) / Real: tensor([8, 6, 7, 4, 5, 8, 0, 1, 4, 3])]\n",
      "Epoch [1/3], Step [2400/6000], Loss: 1.6139\n",
      "Testing data: [Predicted: tensor([6, 5, 5, 1, 1, 2, 2, 0, 6, 0]) / Real: tensor([6, 8, 5, 1, 1, 2, 2, 0, 6, 0])]\n",
      "Epoch [1/3], Step [2500/6000], Loss: 1.6709\n",
      "Testing data: [Predicted: tensor([1, 6, 2, 6, 2, 0, 5, 5, 1, 3]) / Real: tensor([5, 6, 2, 6, 2, 0, 5, 8, 1, 3])]\n",
      "Epoch [1/3], Step [2600/6000], Loss: 1.6453\n",
      "Testing data: [Predicted: tensor([6, 1, 5, 1, 7, 6, 5, 2, 2, 0]) / Real: tensor([6, 1, 5, 1, 7, 6, 8, 2, 2, 0])]\n",
      "Epoch [1/3], Step [2700/6000], Loss: 1.7552\n",
      "Testing data: [Predicted: tensor([2, 3, 4, 1, 9, 5, 3, 6, 3, 6]) / Real: tensor([2, 3, 4, 8, 8, 5, 2, 6, 3, 6])]\n",
      "Epoch [1/3], Step [2800/6000], Loss: 1.8124\n",
      "Testing data: [Predicted: tensor([0, 7, 3, 7, 4, 7, 4, 2, 4, 7]) / Real: tensor([8, 7, 8, 8, 4, 7, 4, 1, 4, 7])]\n",
      "Epoch [1/3], Step [2900/6000], Loss: 1.6076\n",
      "Testing data: [Predicted: tensor([4, 5, 6, 9, 0, 4, 3, 4, 1, 1]) / Real: tensor([4, 8, 6, 9, 0, 4, 3, 4, 1, 1])]\n",
      "Epoch [1/3], Step [3000/6000], Loss: 1.7422\n",
      "Testing data: [Predicted: tensor([4, 0, 0, 8, 2, 3, 8, 5, 5, 4]) / Real: tensor([5, 0, 0, 8, 2, 3, 8, 5, 5, 4])]\n",
      "Epoch [1/3], Step [3100/6000], Loss: 1.6365\n",
      "Testing data: [Predicted: tensor([4, 0, 9, 5, 2, 6, 3, 6, 6, 3]) / Real: tensor([4, 0, 9, 5, 2, 6, 3, 6, 6, 3])]\n",
      "Epoch [1/3], Step [3200/6000], Loss: 1.5893\n",
      "Testing data: [Predicted: tensor([2, 1, 3, 1, 8, 3, 0, 4, 2, 7]) / Real: tensor([2, 1, 3, 1, 8, 3, 0, 2, 2, 7])]\n",
      "Epoch [1/3], Step [3300/6000], Loss: 1.5917\n",
      "Testing data: [Predicted: tensor([0, 5, 1, 5, 4, 7, 3, 9, 6, 1]) / Real: tensor([0, 5, 1, 5, 4, 7, 3, 9, 6, 1])]\n",
      "Epoch [1/3], Step [3400/6000], Loss: 1.6133\n",
      "Testing data: [Predicted: tensor([9, 6, 6, 3, 2, 3, 7, 3, 1, 1]) / Real: tensor([9, 6, 6, 3, 2, 9, 7, 3, 1, 1])]\n",
      "Epoch [1/3], Step [3500/6000], Loss: 1.5393\n",
      "Testing data: [Predicted: tensor([5, 1, 6, 7, 9, 7, 9, 4, 1, 2]) / Real: tensor([5, 1, 6, 7, 9, 7, 9, 4, 1, 2])]\n",
      "Epoch [1/3], Step [3600/6000], Loss: 1.7541\n",
      "Testing data: [Predicted: tensor([9, 4, 9, 9, 7, 8, 8, 8, 4, 6]) / Real: tensor([9, 4, 9, 9, 7, 8, 8, 8, 4, 6])]\n",
      "Epoch [1/3], Step [3700/6000], Loss: 1.5220\n",
      "Testing data: [Predicted: tensor([6, 0, 5, 7, 5, 8, 1, 8, 2, 2]) / Real: tensor([6, 0, 5, 7, 5, 0, 1, 8, 2, 2])]\n",
      "Epoch [1/3], Step [3800/6000], Loss: 1.5959\n",
      "Testing data: [Predicted: tensor([8, 8, 4, 4, 0, 7, 6, 5, 1, 9]) / Real: tensor([8, 8, 4, 4, 0, 7, 6, 7, 1, 9])]\n",
      "Epoch [1/3], Step [3900/6000], Loss: 1.6612\n",
      "Testing data: [Predicted: tensor([8, 4, 3, 6, 7, 4, 5, 2, 4, 4]) / Real: tensor([8, 4, 3, 6, 7, 4, 5, 2, 4, 4])]\n",
      "Epoch [1/3], Step [4000/6000], Loss: 1.7637\n",
      "Testing data: [Predicted: tensor([3, 8, 0, 6, 3, 0, 0, 6, 3, 4]) / Real: tensor([3, 8, 0, 6, 3, 0, 0, 6, 3, 4])]\n",
      "Epoch [1/3], Step [4100/6000], Loss: 1.4942\n",
      "Testing data: [Predicted: tensor([2, 5, 7, 1, 3, 5, 5, 5, 4, 1]) / Real: tensor([2, 5, 7, 1, 3, 5, 5, 5, 4, 1])]\n",
      "Epoch [1/3], Step [4200/6000], Loss: 1.6335\n",
      "Testing data: [Predicted: tensor([4, 5, 6, 9, 9, 5, 1, 8, 9, 9]) / Real: tensor([4, 5, 6, 9, 9, 5, 1, 8, 9, 9])]\n",
      "Epoch [1/3], Step [4300/6000], Loss: 1.6664\n",
      "Testing data: [Predicted: tensor([9, 5, 0, 3, 9, 8, 8, 0, 2, 9]) / Real: tensor([9, 5, 0, 3, 9, 5, 8, 0, 2, 9])]\n",
      "Epoch [1/3], Step [4400/6000], Loss: 1.5926\n",
      "Testing data: [Predicted: tensor([0, 9, 8, 7, 8, 1, 0, 8, 7, 2]) / Real: tensor([0, 9, 8, 7, 8, 1, 0, 8, 7, 2])]\n",
      "Epoch [1/3], Step [4500/6000], Loss: 1.5175\n",
      "Testing data: [Predicted: tensor([3, 7, 2, 0, 2, 0, 0, 3, 2, 2]) / Real: tensor([3, 7, 2, 0, 2, 0, 0, 3, 2, 2])]\n",
      "Epoch [1/3], Step [4600/6000], Loss: 1.6102\n",
      "Testing data: [Predicted: tensor([9, 1, 7, 9, 0, 1, 8, 3, 6, 1]) / Real: tensor([9, 1, 7, 9, 0, 1, 8, 3, 6, 1])]\n",
      "Epoch [1/3], Step [4700/6000], Loss: 1.5372\n",
      "Testing data: [Predicted: tensor([3, 3, 4, 7, 2, 1, 5, 2, 0, 7]) / Real: tensor([3, 3, 4, 7, 2, 1, 5, 2, 0, 7])]\n",
      "Epoch [1/3], Step [4800/6000], Loss: 1.4992\n",
      "Testing data: [Predicted: tensor([7, 5, 8, 1, 9, 0, 5, 1, 2, 0]) / Real: tensor([7, 5, 8, 1, 9, 0, 9, 1, 2, 0])]\n",
      "Epoch [1/3], Step [4900/6000], Loss: 1.6067\n",
      "Testing data: [Predicted: tensor([4, 2, 3, 4, 4, 7, 9, 6, 8, 0]) / Real: tensor([4, 2, 3, 4, 4, 7, 9, 6, 5, 0])]\n",
      "Epoch [1/3], Step [5000/6000], Loss: 1.5687\n",
      "Testing data: [Predicted: tensor([5, 9, 8, 9, 0, 6, 6, 1, 3, 9]) / Real: tensor([5, 9, 8, 9, 0, 6, 6, 1, 2, 9])]\n",
      "Epoch [1/3], Step [5100/6000], Loss: 1.5398\n",
      "Testing data: [Predicted: tensor([0, 1, 7, 9, 3, 7, 9, 0, 6, 6]) / Real: tensor([0, 1, 7, 9, 3, 7, 4, 0, 6, 6])]\n",
      "Epoch [1/3], Step [5200/6000], Loss: 1.6659\n",
      "Testing data: [Predicted: tensor([4, 4, 7, 2, 8, 2, 8, 6, 3, 4]) / Real: tensor([4, 6, 7, 2, 8, 2, 8, 2, 3, 4])]\n",
      "Epoch [1/3], Step [5300/6000], Loss: 1.4834\n",
      "Testing data: [Predicted: tensor([6, 7, 3, 4, 3, 3, 4, 3, 1, 6]) / Real: tensor([6, 2, 9, 4, 3, 3, 4, 3, 7, 6])]\n"
     ]
    },
    {
     "name": "stdout",
     "output_type": "stream",
     "text": [
      "Epoch [1/3], Step [5400/6000], Loss: 1.7513\n",
      "Testing data: [Predicted: tensor([2, 2, 0, 0, 0, 5, 2, 6, 7, 9]) / Real: tensor([2, 2, 0, 2, 0, 5, 2, 6, 7, 9])]\n",
      "Epoch [1/3], Step [5500/6000], Loss: 1.5954\n",
      "Testing data: [Predicted: tensor([0, 7, 3, 4, 5, 4, 5, 0, 7, 2]) / Real: tensor([0, 7, 3, 4, 5, 4, 3, 0, 7, 2])]\n",
      "Epoch [1/3], Step [5600/6000], Loss: 1.4734\n",
      "Testing data: [Predicted: tensor([7, 7, 2, 0, 8, 4, 7, 1, 7, 1]) / Real: tensor([7, 7, 8, 0, 8, 4, 2, 1, 7, 1])]\n",
      "Epoch [1/3], Step [5700/6000], Loss: 1.6281\n",
      "Testing data: [Predicted: tensor([2, 1, 6, 3, 5, 2, 0, 1, 6, 0]) / Real: tensor([2, 1, 6, 3, 5, 2, 0, 1, 6, 0])]\n",
      "Epoch [1/3], Step [5800/6000], Loss: 1.4913\n",
      "Testing data: [Predicted: tensor([1, 1, 9, 3, 4, 9, 0, 1, 5, 6]) / Real: tensor([1, 1, 9, 3, 4, 9, 0, 1, 5, 6])]\n",
      "Epoch [1/3], Step [5900/6000], Loss: 1.4878\n",
      "Testing data: [Predicted: tensor([5, 3, 1, 1, 8, 6, 0, 0, 0, 5]) / Real: tensor([5, 3, 1, 1, 8, 6, 0, 0, 0, 5])]\n",
      "Epoch [1/3], Step [6000/6000], Loss: 1.5193\n",
      "Testing data: [Predicted: tensor([3, 7, 5, 7, 4, 3, 3, 8, 8, 1]) / Real: tensor([3, 7, 5, 7, 4, 3, 3, 8, 8, 1])]\n",
      "Epoch [2/3], Step [100/6000], Loss: 1.5927\n",
      "Testing data: [Predicted: tensor([2, 8, 6, 4, 6, 7, 9, 4, 7, 9]) / Real: tensor([2, 8, 6, 9, 6, 7, 9, 4, 7, 9])]\n",
      "Epoch [2/3], Step [200/6000], Loss: 1.4983\n",
      "Testing data: [Predicted: tensor([1, 7, 7, 3, 1, 8, 1, 9, 7, 0]) / Real: tensor([1, 7, 2, 3, 1, 8, 1, 4, 7, 0])]\n",
      "Epoch [2/3], Step [300/6000], Loss: 1.5090\n",
      "Testing data: [Predicted: tensor([0, 4, 1, 4, 7, 5, 0, 1, 0, 5]) / Real: tensor([0, 4, 1, 4, 7, 5, 0, 1, 0, 5])]\n",
      "Epoch [2/3], Step [400/6000], Loss: 1.5603\n",
      "Testing data: [Predicted: tensor([2, 1, 3, 7, 8, 3, 3, 8, 3, 8]) / Real: tensor([2, 1, 3, 7, 8, 3, 3, 8, 3, 8])]\n",
      "Epoch [2/3], Step [500/6000], Loss: 1.4858\n",
      "Testing data: [Predicted: tensor([8, 1, 1, 8, 9, 3, 2, 5, 2, 1]) / Real: tensor([7, 1, 1, 8, 9, 3, 2, 5, 2, 1])]\n",
      "Epoch [2/3], Step [600/6000], Loss: 1.4784\n",
      "Testing data: [Predicted: tensor([4, 5, 0, 3, 3, 5, 0, 9, 9, 1]) / Real: tensor([4, 5, 0, 3, 3, 5, 0, 9, 9, 1])]\n",
      "Epoch [2/3], Step [700/6000], Loss: 1.4815\n",
      "Testing data: [Predicted: tensor([4, 4, 3, 8, 2, 3, 4, 0, 1, 3]) / Real: tensor([4, 4, 3, 8, 2, 3, 4, 8, 1, 3])]\n",
      "Epoch [2/3], Step [800/6000], Loss: 1.5861\n",
      "Testing data: [Predicted: tensor([5, 5, 4, 1, 4, 7, 6, 0, 7, 6]) / Real: tensor([5, 5, 4, 1, 4, 7, 6, 0, 7, 6])]\n",
      "Epoch [2/3], Step [900/6000], Loss: 1.5399\n",
      "Testing data: [Predicted: tensor([1, 3, 0, 2, 4, 8, 8, 9, 0, 8]) / Real: tensor([1, 3, 0, 2, 2, 8, 8, 9, 0, 8])]\n",
      "Epoch [2/3], Step [1000/6000], Loss: 1.4773\n",
      "Testing data: [Predicted: tensor([8, 5, 5, 3, 8, 0, 1, 0, 7, 0]) / Real: tensor([8, 5, 5, 3, 8, 0, 1, 0, 7, 0])]\n",
      "Epoch [2/3], Step [1100/6000], Loss: 1.6047\n",
      "Testing data: [Predicted: tensor([8, 5, 4, 6, 0, 0, 1, 2, 4, 9]) / Real: tensor([8, 5, 4, 6, 0, 0, 1, 2, 4, 9])]\n",
      "Epoch [2/3], Step [1200/6000], Loss: 1.5791\n",
      "Testing data: [Predicted: tensor([3, 5, 4, 8, 7, 6, 2, 9, 7, 1]) / Real: tensor([3, 5, 4, 8, 7, 6, 2, 9, 7, 1])]\n",
      "Epoch [2/3], Step [1300/6000], Loss: 1.5115\n",
      "Testing data: [Predicted: tensor([6, 6, 8, 4, 2, 6, 2, 4, 5, 0]) / Real: tensor([6, 6, 8, 4, 2, 6, 2, 4, 5, 0])]\n",
      "Epoch [2/3], Step [1400/6000], Loss: 1.6209\n",
      "Testing data: [Predicted: tensor([4, 8, 5, 1, 7, 6, 9, 3, 7, 2]) / Real: tensor([4, 8, 5, 1, 7, 6, 9, 3, 7, 2])]\n",
      "Epoch [2/3], Step [1500/6000], Loss: 1.5706\n",
      "Testing data: [Predicted: tensor([7, 0, 6, 3, 1, 0, 7, 2, 0, 0]) / Real: tensor([7, 0, 6, 3, 1, 7, 7, 2, 0, 0])]\n",
      "Epoch [2/3], Step [1600/6000], Loss: 1.5522\n",
      "Testing data: [Predicted: tensor([7, 1, 2, 1, 2, 3, 4, 0, 7, 9]) / Real: tensor([7, 1, 2, 6, 2, 3, 4, 0, 7, 9])]\n",
      "Epoch [2/3], Step [1700/6000], Loss: 1.5979\n",
      "Testing data: [Predicted: tensor([3, 7, 2, 0, 9, 3, 8, 6, 2, 5]) / Real: tensor([9, 7, 2, 0, 9, 3, 8, 6, 2, 5])]\n",
      "Epoch [2/3], Step [1800/6000], Loss: 1.4728\n",
      "Testing data: [Predicted: tensor([6, 6, 6, 0, 0, 5, 0, 2, 5, 8]) / Real: tensor([6, 6, 6, 0, 0, 5, 0, 2, 5, 8])]\n",
      "Epoch [2/3], Step [1900/6000], Loss: 1.4887\n",
      "Testing data: [Predicted: tensor([2, 1, 1, 3, 9, 8, 7, 2, 8, 7]) / Real: tensor([2, 1, 1, 3, 9, 8, 7, 1, 8, 9])]\n",
      "Epoch [2/3], Step [2000/6000], Loss: 1.4996\n",
      "Testing data: [Predicted: tensor([5, 4, 2, 6, 1, 7, 4, 4, 7, 9]) / Real: tensor([5, 4, 2, 6, 1, 7, 4, 4, 7, 9])]\n",
      "Epoch [2/3], Step [2100/6000], Loss: 1.4796\n",
      "Testing data: [Predicted: tensor([9, 9, 9, 9, 0, 8, 8, 2, 7, 5]) / Real: tensor([9, 9, 9, 9, 0, 8, 8, 2, 7, 9])]\n",
      "Epoch [2/3], Step [2200/6000], Loss: 1.5625\n",
      "Testing data: [Predicted: tensor([6, 1, 1, 6, 1, 2, 0, 2, 7, 6]) / Real: tensor([6, 1, 1, 6, 1, 2, 0, 2, 7, 6])]\n",
      "Epoch [2/3], Step [2300/6000], Loss: 1.4657\n",
      "Testing data: [Predicted: tensor([5, 3, 1, 0, 1, 7, 7, 3, 2, 2]) / Real: tensor([5, 3, 1, 0, 1, 7, 7, 3, 2, 2])]\n",
      "Epoch [2/3], Step [2400/6000], Loss: 1.4788\n",
      "Testing data: [Predicted: tensor([7, 0, 9, 4, 2, 3, 1, 1, 4, 0]) / Real: tensor([7, 0, 9, 4, 2, 7, 1, 1, 4, 0])]\n",
      "Epoch [2/3], Step [2500/6000], Loss: 1.5707\n",
      "Testing data: [Predicted: tensor([2, 4, 3, 0, 9, 3, 7, 8, 0, 5]) / Real: tensor([2, 4, 3, 0, 9, 3, 7, 8, 0, 5])]\n",
      "Epoch [2/3], Step [2600/6000], Loss: 1.5157\n",
      "Testing data: [Predicted: tensor([5, 4, 4, 0, 4, 4, 1, 7, 2, 8]) / Real: tensor([5, 4, 4, 0, 4, 4, 1, 7, 2, 8])]\n",
      "Epoch [2/3], Step [2700/6000], Loss: 1.5332\n",
      "Testing data: [Predicted: tensor([6, 3, 5, 2, 7, 3, 0, 8, 9, 5]) / Real: tensor([6, 3, 5, 2, 7, 3, 0, 8, 9, 5])]\n",
      "Epoch [2/3], Step [2800/6000], Loss: 1.4818\n",
      "Testing data: [Predicted: tensor([2, 7, 7, 4, 8, 1, 7, 3, 0, 2]) / Real: tensor([2, 7, 7, 4, 8, 1, 7, 3, 0, 2])]\n",
      "Epoch [2/3], Step [2900/6000], Loss: 1.4816\n",
      "Testing data: [Predicted: tensor([6, 4, 1, 1, 5, 8, 6, 3, 5, 3]) / Real: tensor([6, 4, 1, 1, 5, 8, 6, 3, 5, 3])]\n",
      "Epoch [2/3], Step [3000/6000], Loss: 1.6259\n",
      "Testing data: [Predicted: tensor([3, 6, 3, 1, 0, 3, 3, 9, 8, 4]) / Real: tensor([2, 6, 3, 1, 0, 3, 3, 9, 2, 4])]\n",
      "Epoch [2/3], Step [3100/6000], Loss: 1.4857\n",
      "Testing data: [Predicted: tensor([0, 8, 4, 0, 8, 8, 7, 0, 7, 2]) / Real: tensor([0, 8, 4, 0, 8, 8, 7, 0, 7, 2])]\n",
      "Epoch [2/3], Step [3200/6000], Loss: 1.5454\n",
      "Testing data: [Predicted: tensor([2, 5, 3, 3, 1, 9, 6, 8, 8, 1]) / Real: tensor([2, 5, 3, 3, 1, 9, 6, 8, 8, 1])]\n",
      "Epoch [2/3], Step [3300/6000], Loss: 1.4771\n",
      "Testing data: [Predicted: tensor([2, 9, 6, 8, 7, 7, 9, 2, 4, 1]) / Real: tensor([2, 9, 6, 8, 7, 7, 4, 2, 4, 1])]\n",
      "Epoch [2/3], Step [3400/6000], Loss: 1.4862\n",
      "Testing data: [Predicted: tensor([7, 3, 8, 1, 0, 0, 1, 2, 9, 1]) / Real: tensor([7, 3, 8, 1, 0, 0, 1, 2, 9, 1])]\n",
      "Epoch [2/3], Step [3500/6000], Loss: 1.4809\n",
      "Testing data: [Predicted: tensor([3, 5, 0, 7, 0, 4, 0, 2, 8, 7]) / Real: tensor([3, 5, 0, 7, 0, 4, 0, 2, 2, 7])]\n",
      "Epoch [2/3], Step [3600/6000], Loss: 1.6096\n",
      "Testing data: [Predicted: tensor([0, 3, 3, 6, 3, 1, 8, 1, 1, 9]) / Real: tensor([0, 3, 3, 6, 3, 4, 8, 1, 1, 9])]\n",
      "Epoch [2/3], Step [3700/6000], Loss: 1.4698\n",
      "Testing data: [Predicted: tensor([2, 0, 7, 5, 5, 5, 0, 6, 3, 6]) / Real: tensor([2, 0, 7, 5, 5, 5, 0, 6, 3, 6])]\n",
      "Epoch [2/3], Step [3800/6000], Loss: 1.4965\n",
      "Testing data: [Predicted: tensor([6, 4, 5, 6, 5, 0, 1, 2, 9, 7]) / Real: tensor([6, 6, 5, 6, 5, 0, 1, 2, 9, 7])]\n",
      "Epoch [2/3], Step [3900/6000], Loss: 1.5493\n",
      "Testing data: [Predicted: tensor([9, 2, 2, 6, 6, 4, 9, 4, 0, 0]) / Real: tensor([9, 2, 2, 6, 6, 4, 9, 4, 0, 0])]\n",
      "Epoch [2/3], Step [4000/6000], Loss: 1.6236\n",
      "Testing data: [Predicted: tensor([1, 5, 4, 8, 1, 2, 0, 2, 5, 7]) / Real: tensor([1, 5, 4, 8, 1, 2, 0, 2, 5, 7])]\n",
      "Epoch [2/3], Step [4100/6000], Loss: 1.4644\n",
      "Testing data: [Predicted: tensor([2, 2, 9, 0, 5, 1, 3, 2, 0, 3]) / Real: tensor([2, 2, 9, 0, 5, 1, 3, 2, 0, 3])]\n",
      "Epoch [2/3], Step [4200/6000], Loss: 1.5789\n",
      "Testing data: [Predicted: tensor([4, 0, 8, 4, 2, 5, 3, 3, 0, 6]) / Real: tensor([4, 6, 8, 4, 2, 5, 3, 3, 0, 6])]\n",
      "Epoch [2/3], Step [4300/6000], Loss: 1.5404\n",
      "Testing data: [Predicted: tensor([7, 9, 1, 1, 3, 0, 4, 6, 5, 4]) / Real: tensor([7, 9, 1, 1, 3, 0, 4, 6, 5, 4])]\n",
      "Epoch [2/3], Step [4400/6000], Loss: 1.5398\n",
      "Testing data: [Predicted: tensor([9, 4, 4, 1, 1, 5, 3, 0, 9, 6]) / Real: tensor([9, 4, 4, 1, 1, 5, 2, 0, 9, 6])]\n",
      "Epoch [2/3], Step [4500/6000], Loss: 1.4789\n",
      "Testing data: [Predicted: tensor([9, 4, 7, 0, 1, 0, 5, 1, 1, 0]) / Real: tensor([9, 4, 7, 0, 1, 0, 5, 1, 1, 0])]\n",
      "Epoch [2/3], Step [4600/6000], Loss: 1.5426\n",
      "Testing data: [Predicted: tensor([3, 1, 1, 4, 6, 0, 7, 0, 1, 0]) / Real: tensor([2, 1, 1, 4, 6, 0, 7, 0, 1, 0])]\n"
     ]
    },
    {
     "name": "stdout",
     "output_type": "stream",
     "text": [
      "Epoch [2/3], Step [4700/6000], Loss: 1.4794\n",
      "Testing data: [Predicted: tensor([5, 7, 3, 3, 1, 7, 1, 7, 0, 8]) / Real: tensor([5, 7, 3, 3, 1, 7, 1, 7, 0, 8])]\n",
      "Epoch [2/3], Step [4800/6000], Loss: 1.4723\n",
      "Testing data: [Predicted: tensor([5, 7, 5, 4, 8, 0, 8, 5, 2, 8]) / Real: tensor([5, 7, 5, 4, 8, 0, 7, 5, 2, 8])]\n",
      "Epoch [2/3], Step [4900/6000], Loss: 1.5377\n",
      "Testing data: [Predicted: tensor([8, 4, 7, 1, 5, 5, 2, 7, 6, 5]) / Real: tensor([8, 4, 7, 1, 5, 5, 2, 7, 6, 5])]\n",
      "Epoch [2/3], Step [5000/6000], Loss: 1.4857\n",
      "Testing data: [Predicted: tensor([6, 1, 8, 0, 5, 1, 0, 7, 6, 9]) / Real: tensor([6, 1, 8, 0, 5, 1, 0, 7, 6, 9])]\n",
      "Epoch [2/3], Step [5100/6000], Loss: 1.4855\n",
      "Testing data: [Predicted: tensor([6, 6, 4, 4, 2, 6, 6, 8, 9, 7]) / Real: tensor([6, 6, 4, 4, 2, 6, 6, 8, 9, 7])]\n",
      "Epoch [2/3], Step [5200/6000], Loss: 1.6324\n",
      "Testing data: [Predicted: tensor([3, 0, 2, 7, 8, 5, 4, 1, 3, 1]) / Real: tensor([3, 0, 2, 7, 8, 5, 4, 1, 3, 1])]\n",
      "Epoch [2/3], Step [5300/6000], Loss: 1.4667\n",
      "Testing data: [Predicted: tensor([7, 8, 9, 4, 2, 4, 8, 4, 7, 1]) / Real: tensor([7, 8, 9, 4, 2, 4, 8, 4, 7, 1])]\n",
      "Epoch [2/3], Step [5400/6000], Loss: 1.6952\n",
      "Testing data: [Predicted: tensor([6, 9, 4, 1, 1, 7, 3, 8, 7, 3]) / Real: tensor([6, 9, 4, 1, 1, 7, 2, 8, 7, 3])]\n",
      "Epoch [2/3], Step [5500/6000], Loss: 1.4995\n",
      "Testing data: [Predicted: tensor([1, 0, 2, 4, 4, 3, 9, 6, 1, 9]) / Real: tensor([1, 0, 2, 4, 4, 3, 9, 6, 1, 9])]\n",
      "Epoch [2/3], Step [5600/6000], Loss: 1.4633\n",
      "Testing data: [Predicted: tensor([5, 7, 3, 9, 1, 8, 0, 1, 4, 7]) / Real: tensor([5, 7, 3, 9, 1, 8, 0, 1, 4, 7])]\n",
      "Epoch [2/3], Step [5700/6000], Loss: 1.5268\n",
      "Testing data: [Predicted: tensor([8, 7, 4, 4, 8, 0, 0, 4, 8, 0]) / Real: tensor([7, 7, 4, 4, 8, 2, 0, 4, 8, 0])]\n",
      "Epoch [2/3], Step [5800/6000], Loss: 1.4689\n",
      "Testing data: [Predicted: tensor([8, 0, 4, 9, 2, 7, 2, 4, 8, 0]) / Real: tensor([8, 0, 4, 9, 2, 7, 2, 4, 8, 0])]\n",
      "Epoch [2/3], Step [5900/6000], Loss: 1.4652\n",
      "Testing data: [Predicted: tensor([2, 3, 2, 5, 6, 0, 9, 1, 9, 9]) / Real: tensor([2, 3, 2, 5, 6, 8, 9, 1, 9, 9])]\n",
      "Epoch [2/3], Step [6000/6000], Loss: 1.4789\n",
      "Testing data: [Predicted: tensor([2, 0, 8, 4, 6, 0, 3, 4, 7, 3]) / Real: tensor([2, 0, 8, 4, 6, 0, 3, 4, 7, 3])]\n",
      "Epoch [3/3], Step [100/6000], Loss: 1.5686\n",
      "Testing data: [Predicted: tensor([8, 5, 6, 2, 2, 2, 1, 1, 1, 5]) / Real: tensor([8, 5, 6, 2, 2, 2, 1, 1, 1, 5])]\n",
      "Epoch [3/3], Step [200/6000], Loss: 1.4760\n",
      "Testing data: [Predicted: tensor([0, 7, 3, 5, 8, 6, 1, 2, 5, 4]) / Real: tensor([0, 7, 3, 5, 8, 6, 1, 2, 5, 4])]\n",
      "Epoch [3/3], Step [300/6000], Loss: 1.4815\n",
      "Testing data: [Predicted: tensor([3, 6, 2, 0, 1, 9, 5, 7, 9, 7]) / Real: tensor([3, 6, 2, 0, 1, 9, 5, 7, 9, 7])]\n",
      "Epoch [3/3], Step [400/6000], Loss: 1.5503\n",
      "Testing data: [Predicted: tensor([0, 7, 8, 2, 4, 8, 9, 1, 2, 5]) / Real: tensor([0, 7, 8, 2, 4, 8, 9, 1, 2, 5])]\n",
      "Epoch [3/3], Step [500/6000], Loss: 1.4681\n",
      "Testing data: [Predicted: tensor([1, 9, 0, 5, 0, 1, 6, 6, 7, 0]) / Real: tensor([1, 9, 0, 5, 0, 1, 6, 6, 7, 0])]\n",
      "Epoch [3/3], Step [600/6000], Loss: 1.4693\n",
      "Testing data: [Predicted: tensor([8, 2, 1, 9, 4, 2, 4, 5, 1, 4]) / Real: tensor([8, 2, 1, 9, 4, 2, 4, 5, 1, 4])]\n",
      "Epoch [3/3], Step [700/6000], Loss: 1.4656\n",
      "Testing data: [Predicted: tensor([0, 6, 8, 0, 9, 9, 7, 1, 0, 6]) / Real: tensor([0, 6, 8, 0, 9, 9, 7, 1, 0, 6])]\n",
      "Epoch [3/3], Step [800/6000], Loss: 1.5376\n",
      "Testing data: [Predicted: tensor([8, 8, 3, 8, 6, 9, 7, 6, 7, 5]) / Real: tensor([8, 8, 3, 8, 6, 4, 7, 6, 7, 5])]\n",
      "Epoch [3/3], Step [900/6000], Loss: 1.5322\n",
      "Testing data: [Predicted: tensor([8, 2, 3, 6, 6, 1, 5, 0, 6, 2]) / Real: tensor([3, 2, 3, 6, 6, 1, 5, 0, 6, 2])]\n",
      "Epoch [3/3], Step [1000/6000], Loss: 1.4646\n",
      "Testing data: [Predicted: tensor([1, 7, 6, 6, 7, 8, 9, 7, 7, 3]) / Real: tensor([1, 7, 6, 6, 7, 1, 9, 7, 7, 3])]\n",
      "Epoch [3/3], Step [1100/6000], Loss: 1.5928\n",
      "Testing data: [Predicted: tensor([1, 1, 4, 0, 7, 3, 2, 6, 3, 2]) / Real: tensor([1, 1, 4, 0, 7, 3, 2, 6, 3, 2])]\n",
      "Epoch [3/3], Step [1200/6000], Loss: 1.5513\n",
      "Testing data: [Predicted: tensor([2, 3, 5, 0, 1, 7, 1, 2, 2, 4]) / Real: tensor([2, 3, 5, 0, 9, 7, 1, 2, 2, 4])]\n",
      "Epoch [3/3], Step [1300/6000], Loss: 1.4816\n",
      "Testing data: [Predicted: tensor([1, 3, 6, 1, 9, 0, 7, 3, 3, 8]) / Real: tensor([1, 3, 6, 1, 9, 0, 7, 3, 3, 8])]\n",
      "Epoch [3/3], Step [1400/6000], Loss: 1.5817\n",
      "Testing data: [Predicted: tensor([8, 8, 0, 2, 1, 7, 8, 7, 2, 9]) / Real: tensor([8, 8, 0, 2, 1, 7, 8, 7, 2, 9])]\n",
      "Epoch [3/3], Step [1500/6000], Loss: 1.5150\n",
      "Testing data: [Predicted: tensor([0, 4, 1, 2, 0, 1, 5, 2, 6, 6]) / Real: tensor([0, 4, 1, 2, 0, 1, 5, 2, 6, 6])]\n",
      "Epoch [3/3], Step [1600/6000], Loss: 1.5278\n",
      "Testing data: [Predicted: tensor([1, 0, 3, 1, 4, 5, 3, 6, 4, 2]) / Real: tensor([1, 0, 3, 1, 4, 5, 3, 6, 4, 2])]\n",
      "Epoch [3/3], Step [1700/6000], Loss: 1.5383\n",
      "Testing data: [Predicted: tensor([8, 5, 8, 5, 5, 2, 0, 1, 0, 1]) / Real: tensor([8, 5, 8, 6, 5, 2, 0, 1, 0, 1])]\n",
      "Epoch [3/3], Step [1800/6000], Loss: 1.4651\n",
      "Testing data: [Predicted: tensor([8, 1, 8, 0, 0, 8, 8, 4, 4, 4]) / Real: tensor([8, 1, 8, 0, 4, 8, 8, 4, 4, 4])]\n",
      "Epoch [3/3], Step [1900/6000], Loss: 1.4763\n",
      "Testing data: [Predicted: tensor([3, 5, 6, 5, 4, 4, 7, 5, 8, 1]) / Real: tensor([3, 5, 6, 5, 4, 4, 7, 5, 8, 1])]\n",
      "Epoch [3/3], Step [2000/6000], Loss: 1.4762\n",
      "Testing data: [Predicted: tensor([7, 6, 9, 0, 4, 0, 8, 7, 2, 1]) / Real: tensor([7, 6, 9, 0, 4, 0, 8, 7, 2, 1])]\n",
      "Epoch [3/3], Step [2100/6000], Loss: 1.4695\n",
      "Testing data: [Predicted: tensor([4, 1, 1, 5, 0, 3, 3, 3, 6, 3]) / Real: tensor([4, 1, 1, 5, 0, 2, 3, 3, 6, 3])]\n",
      "Epoch [3/3], Step [2200/6000], Loss: 1.5577\n",
      "Testing data: [Predicted: tensor([7, 4, 3, 3, 5, 1, 0, 2, 4, 3]) / Real: tensor([7, 4, 3, 3, 5, 1, 0, 2, 4, 3])]\n",
      "Epoch [3/3], Step [2300/6000], Loss: 1.4624\n",
      "Testing data: [Predicted: tensor([0, 1, 3, 2, 2, 6, 3, 0, 9, 7]) / Real: tensor([0, 1, 3, 2, 2, 6, 3, 0, 9, 7])]\n",
      "Epoch [3/3], Step [2400/6000], Loss: 1.4647\n",
      "Testing data: [Predicted: tensor([8, 1, 9, 9, 0, 9, 9, 0, 2, 5]) / Real: tensor([8, 1, 9, 9, 0, 9, 9, 0, 2, 5])]\n",
      "Epoch [3/3], Step [2500/6000], Loss: 1.5491\n",
      "Testing data: [Predicted: tensor([3, 7, 5, 6, 1, 2, 7, 6, 0, 9]) / Real: tensor([3, 7, 5, 6, 1, 2, 7, 6, 0, 9])]\n",
      "Epoch [3/3], Step [2600/6000], Loss: 1.4877\n",
      "Testing data: [Predicted: tensor([1, 0, 7, 5, 3, 3, 3, 7, 1, 4]) / Real: tensor([1, 0, 7, 5, 3, 3, 3, 7, 1, 4])]\n",
      "Epoch [3/3], Step [2700/6000], Loss: 1.4905\n",
      "Testing data: [Predicted: tensor([7, 3, 8, 2, 7, 2, 5, 4, 2, 4]) / Real: tensor([7, 3, 8, 2, 7, 2, 5, 4, 2, 4])]\n",
      "Epoch [3/3], Step [2800/6000], Loss: 1.4721\n",
      "Testing data: [Predicted: tensor([6, 4, 8, 4, 9, 3, 1, 1, 4, 1]) / Real: tensor([6, 4, 8, 4, 9, 3, 1, 1, 4, 1])]\n",
      "Epoch [3/3], Step [2900/6000], Loss: 1.4723\n",
      "Testing data: [Predicted: tensor([6, 4, 2, 0, 7, 4, 5, 7, 0, 7]) / Real: tensor([6, 4, 2, 0, 7, 4, 5, 7, 6, 7])]\n",
      "Epoch [3/3], Step [3000/6000], Loss: 1.6009\n",
      "Testing data: [Predicted: tensor([6, 4, 9, 0, 0, 3, 7, 0, 2, 3]) / Real: tensor([6, 4, 9, 0, 0, 3, 7, 0, 2, 3])]\n",
      "Epoch [3/3], Step [3100/6000], Loss: 1.4670\n",
      "Testing data: [Predicted: tensor([4, 4, 4, 5, 4, 2, 3, 4, 8, 5]) / Real: tensor([4, 4, 4, 5, 4, 2, 3, 4, 8, 5])]\n",
      "Epoch [3/3], Step [3200/6000], Loss: 1.5262\n",
      "Testing data: [Predicted: tensor([2, 3, 3, 1, 3, 3, 1, 5, 6, 9]) / Real: tensor([2, 3, 9, 1, 3, 3, 1, 5, 6, 9])]\n",
      "Epoch [3/3], Step [3300/6000], Loss: 1.4641\n",
      "Testing data: [Predicted: tensor([2, 1, 7, 5, 4, 5, 0, 0, 5, 0]) / Real: tensor([2, 1, 7, 5, 4, 5, 0, 0, 5, 0])]\n",
      "Epoch [3/3], Step [3400/6000], Loss: 1.4740\n",
      "Testing data: [Predicted: tensor([5, 0, 6, 0, 1, 2, 1, 6, 9, 6]) / Real: tensor([5, 0, 6, 0, 1, 2, 1, 6, 9, 6])]\n",
      "Epoch [3/3], Step [3500/6000], Loss: 1.4699\n",
      "Testing data: [Predicted: tensor([3, 9, 1, 1, 1, 5, 1, 4, 1, 6]) / Real: tensor([3, 9, 1, 1, 1, 5, 1, 4, 1, 6])]\n",
      "Epoch [3/3], Step [3600/6000], Loss: 1.5683\n",
      "Testing data: [Predicted: tensor([1, 2, 3, 9, 6, 8, 3, 6, 3, 7]) / Real: tensor([1, 2, 3, 9, 6, 8, 3, 6, 3, 7])]\n",
      "Epoch [3/3], Step [3700/6000], Loss: 1.4658\n",
      "Testing data: [Predicted: tensor([8, 7, 3, 4, 5, 2, 3, 1, 9, 1]) / Real: tensor([8, 7, 3, 9, 5, 2, 3, 1, 9, 1])]\n",
      "Epoch [3/3], Step [3800/6000], Loss: 1.4675\n",
      "Testing data: [Predicted: tensor([0, 8, 9, 7, 0, 2, 7, 3, 5, 1]) / Real: tensor([0, 8, 9, 7, 0, 2, 7, 3, 5, 1])]\n",
      "Epoch [3/3], Step [3900/6000], Loss: 1.4992\n",
      "Testing data: [Predicted: tensor([0, 0, 0, 0, 5, 8, 1, 4, 1, 6]) / Real: tensor([0, 0, 0, 0, 5, 8, 1, 4, 1, 6])]\n"
     ]
    },
    {
     "name": "stdout",
     "output_type": "stream",
     "text": [
      "Epoch [3/3], Step [4000/6000], Loss: 1.5521\n",
      "Testing data: [Predicted: tensor([6, 2, 9, 5, 4, 2, 7, 9, 8, 1]) / Real: tensor([6, 2, 9, 5, 4, 2, 7, 9, 8, 1])]\n",
      "Epoch [3/3], Step [4100/6000], Loss: 1.4623\n",
      "Testing data: [Predicted: tensor([3, 9, 0, 4, 8, 3, 1, 1, 4, 1]) / Real: tensor([3, 9, 0, 4, 8, 3, 1, 1, 4, 1])]\n",
      "Epoch [3/3], Step [4200/6000], Loss: 1.5671\n",
      "Testing data: [Predicted: tensor([5, 0, 8, 7, 4, 3, 7, 3, 6, 2]) / Real: tensor([5, 0, 8, 7, 4, 3, 7, 3, 6, 2])]\n",
      "Epoch [3/3], Step [4300/6000], Loss: 1.5039\n",
      "Testing data: [Predicted: tensor([7, 5, 6, 3, 1, 3, 5, 3, 4, 4]) / Real: tensor([7, 5, 6, 3, 1, 3, 5, 3, 4, 4])]\n",
      "Epoch [3/3], Step [4400/6000], Loss: 1.5359\n",
      "Testing data: [Predicted: tensor([0, 1, 3, 3, 8, 6, 3, 0, 9, 4]) / Real: tensor([0, 1, 3, 3, 8, 6, 3, 0, 9, 4])]\n",
      "Epoch [3/3], Step [4500/6000], Loss: 1.4707\n",
      "Testing data: [Predicted: tensor([2, 7, 1, 7, 0, 1, 1, 3, 3, 2]) / Real: tensor([2, 7, 1, 7, 0, 1, 1, 3, 3, 2])]\n",
      "Epoch [3/3], Step [4600/6000], Loss: 1.5165\n",
      "Testing data: [Predicted: tensor([8, 4, 4, 0, 7, 4, 1, 4, 2, 8]) / Real: tensor([8, 4, 4, 0, 7, 4, 1, 4, 2, 8])]\n",
      "Epoch [3/3], Step [4700/6000], Loss: 1.4713\n",
      "Testing data: [Predicted: tensor([7, 4, 0, 8, 9, 6, 3, 2, 1, 0]) / Real: tensor([7, 4, 0, 8, 9, 6, 3, 2, 1, 0])]\n",
      "Epoch [3/3], Step [4800/6000], Loss: 1.4667\n",
      "Testing data: [Predicted: tensor([7, 1, 0, 0, 7, 2, 1, 0, 8, 1]) / Real: tensor([7, 1, 0, 0, 7, 2, 1, 0, 8, 1])]\n",
      "Epoch [3/3], Step [4900/6000], Loss: 1.5232\n",
      "Testing data: [Predicted: tensor([3, 0, 4, 6, 4, 9, 1, 2, 4, 7]) / Real: tensor([3, 0, 4, 6, 4, 9, 1, 2, 4, 7])]\n",
      "Epoch [3/3], Step [5000/6000], Loss: 1.4710\n",
      "Testing data: [Predicted: tensor([9, 4, 9, 9, 3, 3, 2, 7, 6, 0]) / Real: tensor([9, 4, 9, 9, 3, 3, 2, 7, 6, 0])]\n",
      "Epoch [3/3], Step [5100/6000], Loss: 1.4743\n",
      "Testing data: [Predicted: tensor([5, 4, 9, 3, 4, 1, 5, 0, 3, 9]) / Real: tensor([5, 4, 9, 3, 4, 1, 5, 0, 3, 9])]\n",
      "Epoch [3/3], Step [5200/6000], Loss: 1.6132\n",
      "Testing data: [Predicted: tensor([5, 5, 8, 6, 2, 8, 0, 1, 0, 4]) / Real: tensor([5, 5, 8, 6, 2, 8, 0, 1, 0, 4])]\n",
      "Epoch [3/3], Step [5300/6000], Loss: 1.4637\n",
      "Testing data: [Predicted: tensor([9, 1, 3, 0, 9, 3, 2, 4, 1, 8]) / Real: tensor([8, 1, 3, 0, 9, 3, 2, 4, 1, 8])]\n",
      "Epoch [3/3], Step [5400/6000], Loss: 1.6404\n",
      "Testing data: [Predicted: tensor([0, 9, 0, 5, 8, 9, 6, 4, 1, 8]) / Real: tensor([9, 9, 0, 5, 8, 9, 6, 4, 1, 7])]\n",
      "Epoch [3/3], Step [5500/6000], Loss: 1.4796\n",
      "Testing data: [Predicted: tensor([8, 8, 2, 6, 8, 1, 7, 7, 5, 0]) / Real: tensor([8, 8, 2, 6, 8, 1, 7, 7, 5, 0])]\n",
      "Epoch [3/3], Step [5600/6000], Loss: 1.4620\n",
      "Testing data: [Predicted: tensor([7, 4, 7, 7, 6, 0, 1, 3, 1, 3]) / Real: tensor([7, 4, 7, 7, 6, 0, 1, 3, 1, 3])]\n",
      "Epoch [3/3], Step [5700/6000], Loss: 1.4908\n",
      "Testing data: [Predicted: tensor([2, 3, 9, 9, 1, 2, 2, 7, 3, 0]) / Real: tensor([2, 3, 9, 9, 1, 2, 2, 7, 3, 0])]\n",
      "Epoch [3/3], Step [5800/6000], Loss: 1.4643\n",
      "Testing data: [Predicted: tensor([1, 0, 3, 7, 7, 1, 8, 7, 5, 5]) / Real: tensor([1, 0, 3, 7, 7, 1, 8, 7, 5, 5])]\n",
      "Epoch [3/3], Step [5900/6000], Loss: 1.4624\n",
      "Testing data: [Predicted: tensor([3, 7, 1, 2, 7, 9, 7, 6, 5, 8]) / Real: tensor([3, 7, 1, 2, 7, 9, 7, 6, 5, 8])]\n",
      "Epoch [3/3], Step [6000/6000], Loss: 1.4691\n",
      "Testing data: [Predicted: tensor([2, 6, 5, 1, 2, 2, 0, 7, 6, 0]) / Real: tensor([2, 6, 5, 1, 2, 2, 6, 7, 6, 0])]\n",
      "Accuracy of the network on the 10000 test images: 97.22 %\n"
     ]
    }
   ],
   "source": [
    "total_step = len(train_loader)\n",
    "for epoch in range(num_epochs):\n",
    "    for i, (images, labels) in enumerate(train_loader):\n",
    "        # Assign Tensors to Configured Device\n",
    "        images = images.to(device)\n",
    "        labels = labels.to(device)\n",
    "\n",
    "        # Forward Propagation\n",
    "        outputs = model(images)\n",
    "\n",
    "        # Get Loss, Compute Gradient, Update Parameters\n",
    "        loss = criterion(outputs, labels)\n",
    "        optimizer.zero_grad()\n",
    "        loss.backward()\n",
    "        optimizer.step()\n",
    "\n",
    "        # Print Loss for Tracking Training\n",
    "        if (i+1) % 100 == 0:\n",
    "            print('Epoch [{}/{}], Step [{}/{}], Loss: {:.4f}'.format(epoch+1, num_epochs, i+1, total_step, loss.item()))\n",
    "            test_image, test_label = next(iter(test_loader))\n",
    "            _, test_predicted = torch.max(model(test_image.to(device)).data, 1)\n",
    "            print('Testing data: [Predicted: {} / Real: {}]'.format(test_predicted, test_label))\n",
    "\n",
    "    if epoch+1 == num_epochs:\n",
    "        torch.save(model.state_dict(), 'model.pth')\n",
    "    else:\n",
    "        torch.save(model.state_dict(), 'model-{:02d}_epochs.pth'.format(epoch+1))\n",
    "\n",
    "# Test after Training is done\n",
    "model.eval() # Set model to Evaluation Mode (Batchnorm uses moving mean/var instead of mini-batch mean/var)\n",
    "with torch.no_grad():\n",
    "    correct = 0\n",
    "    total = 0\n",
    "    for images, labels in test_loader:\n",
    "        images = images.to(device)\n",
    "        labels = labels.to(device)\n",
    "        outputs = model(images)\n",
    "        _, predicted = torch.max(outputs.data, 1)\n",
    "        total += labels.size(0)\n",
    "        correct += (predicted == labels).sum().item()\n",
    "\n",
    "    print('Accuracy of the network on the {} test images: {} %'.format(len(test_loader)*batch_size, 100 * correct / total))"
   ]
  },
  {
   "cell_type": "markdown",
   "metadata": {
    "collapsed": true
   },
   "source": [
    "<h2 id='visualized'> cf) Process in Visualization </h2>"
   ]
  },
  {
   "cell_type": "markdown",
   "metadata": {},
   "source": [
    "<img src=\"../../shared/CNN_MNIST_process.png\" alt=\"Drawing\" style=\"width: 800px;\" align=\"left\"/>"
   ]
  },
  {
   "cell_type": "code",
   "execution_count": null,
   "metadata": {
    "collapsed": true
   },
   "outputs": [],
   "source": []
  },
  {
   "cell_type": "markdown",
   "metadata": {},
   "source": [
    "#### (0) Prepare for Visualization"
   ]
  },
  {
   "cell_type": "code",
   "execution_count": 12,
   "metadata": {
    "collapsed": true
   },
   "outputs": [],
   "source": [
    "from matplotlib.pyplot import imshow\n",
    "import numpy as np\n",
    "# For Displaying Inline Style (Only for .ipynb fileformat)\n",
    "%matplotlib inline \n",
    "\n",
    "visual_loader = torch.utils.data.DataLoader(dataset=train_data,\n",
    "                                            batch_size=2,\n",
    "                                            shuffle=True)\n",
    "\n",
    "class ConvNetBreakDown(nn.Module):\n",
    "    def __init__(self, num_classes=10):\n",
    "        super(ConvNetBreakDown, self).__init__()\n",
    "        self.layer1 = nn.Sequential(\n",
    "                nn.Conv2d(in_channel, 16, 5, stride=1, padding=2),\n",
    "                nn.BatchNorm2d(16),\n",
    "                nn.ReLU(),\n",
    "                nn.MaxPool2d(max_pool_kernel))\n",
    "        self.layer2 = nn.Sequential(\n",
    "                nn.Conv2d(16, 32, 5, stride=1, padding=2),\n",
    "                nn.BatchNorm2d(32),\n",
    "                nn.ReLU(),\n",
    "                nn.MaxPool2d(max_pool_kernel))\n",
    "        self.fc1 = nn.Linear(7*7*32, 120)\n",
    "        self.fc2 = nn.Linear(120, num_classes)\n",
    "\n",
    "    def forward1(self, x):\n",
    "        x = self.layer1(x)\n",
    "        return x\n",
    "    \n",
    "    def forward2(self, x):\n",
    "        x = self.layer2(x)\n",
    "        return x\n",
    "    \n",
    "    def forward3(self, x):\n",
    "        x = x.reshape(x.size(0), -1)\n",
    "        x = self.fc1(x)\n",
    "        return x\n",
    "    \n",
    "    def forward4(self, x):\n",
    "        x = self.fc2(x)\n",
    "        return x\n",
    "\n",
    "model1 = ConvNetBreakDown()\n",
    "\n",
    "def image_show(tensor_image):\n",
    "    image = tensor_image.reshape(tensor_image.size()[1], tensor_image.size()[2])\n",
    "    imshow(image, cmap='gray')\n",
    "\n",
    "images, _ = next(iter(visual_loader))\n",
    "image1 = images[0]\n",
    "image2 = images[1]"
   ]
  },
  {
   "cell_type": "markdown",
   "metadata": {},
   "source": [
    "#### (1) Row MNIST Image Data"
   ]
  },
  {
   "cell_type": "code",
   "execution_count": 13,
   "metadata": {},
   "outputs": [
    {
     "data": {
      "image/png": "[encoded data removed]",
      "text/plain": [
       "<Figure size 432x288 with 1 Axes>"
      ]
     },
     "metadata": {},
     "output_type": "display_data"
    }
   ],
   "source": [
    "image_show(image1)"
   ]
  },
  {
   "cell_type": "code",
   "execution_count": 14,
   "metadata": {},
   "outputs": [
    {
     "data": {
      "image/png": "[encoded data removed]",
      "text/plain": [
       "<Figure size 432x288 with 1 Axes>"
      ]
     },
     "metadata": {},
     "output_type": "display_data"
    }
   ],
   "source": [
    "image_show(image2)"
   ]
  },
  {
   "cell_type": "markdown",
   "metadata": {},
   "source": [
    "#### (2) After CNN1 "
   ]
  },
  {
   "cell_type": "code",
   "execution_count": 15,
   "metadata": {},
   "outputs": [
    {
     "name": "stdout",
     "output_type": "stream",
     "text": [
      "torch.Size([2, 16, 14, 14])\n"
     ]
    }
   ],
   "source": [
    "\n",
    "# output1 = model1(images)\n",
    "output1 = model1.forward1(images)\n",
    "print(output1.size())\n",
    "\n",
    "image1 = torch.zeros(14,14)\n",
    "image2 = torch.zeros(14,14)\n",
    "for i in range(output1.size()[1]):\n",
    "    image1 += output1[0][i].reshape(14,14)\n",
    "    image2 += output1[1][i].reshape(14,14)\n",
    "    \n",
    "image1 = image1.detach().numpy()\n",
    "image2 = image2.detach().numpy()\n",
    "\n",
    "# show_n_images(1, 2, [temp, temp2])"
   ]
  },
  {
   "cell_type": "code",
   "execution_count": 16,
   "metadata": {},
   "outputs": [
    {
     "data": {
      "text/plain": [
       "<matplotlib.image.AxesImage at 0x1236cf438>"
      ]
     },
     "execution_count": 16,
     "metadata": {},
     "output_type": "execute_result"
    },
    {
     "data": {
      "image/png": "[encoded data removed]",
      "text/plain": [
       "<Figure size 432x288 with 1 Axes>"
      ]
     },
     "metadata": {},
     "output_type": "display_data"
    }
   ],
   "source": [
    "imshow(image1, cmap='gray')"
   ]
  },
  {
   "cell_type": "code",
   "execution_count": 17,
   "metadata": {},
   "outputs": [
    {
     "data": {
      "text/plain": [
       "<matplotlib.image.AxesImage at 0x125859fd0>"
      ]
     },
     "execution_count": 17,
     "metadata": {},
     "output_type": "execute_result"
    },
    {
     "data": {
      "image/png": "[encoded data removed]",
      "text/plain": [
       "<Figure size 432x288 with 1 Axes>"
      ]
     },
     "metadata": {},
     "output_type": "display_data"
    }
   ],
   "source": [
    "imshow(image2, cmap='gray')"
   ]
  },
  {
   "cell_type": "markdown",
   "metadata": {},
   "source": [
    "#### (3) After CNN2"
   ]
  },
  {
   "cell_type": "code",
   "execution_count": 18,
   "metadata": {},
   "outputs": [
    {
     "name": "stdout",
     "output_type": "stream",
     "text": [
      "torch.Size([2, 32, 7, 7])\n"
     ]
    }
   ],
   "source": [
    "output2 = model1.forward2(output1)\n",
    "print(output2.size())\n",
    "image1 = torch.zeros(7,7)\n",
    "image2 = torch.zeros(7,7)\n",
    "for i in range(output2.size()[1]):\n",
    "    image1 += output2[0][i].reshape(7,7)\n",
    "    image2 += output2[1][i].reshape(7,7)\n",
    "    \n",
    "image1 = image1.detach().numpy()\n",
    "image2 = image2.detach().numpy()"
   ]
  },
  {
   "cell_type": "code",
   "execution_count": 19,
   "metadata": {},
   "outputs": [
    {
     "data": {
      "text/plain": [
       "<matplotlib.image.AxesImage at 0x125901898>"
      ]
     },
     "execution_count": 19,
     "metadata": {},
     "output_type": "execute_result"
    },
    {
     "data": {
      "image/png": "[encoded data removed]",
      "text/plain": [
       "<Figure size 432x288 with 1 Axes>"
      ]
     },
     "metadata": {},
     "output_type": "display_data"
    }
   ],
   "source": [
    "imshow(image1, cmap='gray')"
   ]
  },
  {
   "cell_type": "code",
   "execution_count": 20,
   "metadata": {},
   "outputs": [
    {
     "data": {
      "text/plain": [
       "<matplotlib.image.AxesImage at 0x120c4a438>"
      ]
     },
     "execution_count": 20,
     "metadata": {},
     "output_type": "execute_result"
    },
    {
     "data": {
      "image/png": "[encoded data removed]",
      "text/plain": [
       "<Figure size 432x288 with 1 Axes>"
      ]
     },
     "metadata": {},
     "output_type": "display_data"
    }
   ],
   "source": [
    "imshow(image2, cmap='gray')"
   ]
  },
  {
   "cell_type": "markdown",
   "metadata": {},
   "source": [
    "#### (4) After Affine (Fully Connected) Layer"
   ]
  },
  {
   "cell_type": "code",
   "execution_count": 21,
   "metadata": {},
   "outputs": [
    {
     "name": "stdout",
     "output_type": "stream",
     "text": [
      "torch.Size([2, 120])\n",
      "torch.Size([2, 10])\n"
     ]
    }
   ],
   "source": [
    "output3 = model1.forward3(output2)\n",
    "print(output3.size())\n",
    "image1 = output3[0]\n",
    "image2 = output3[1]\n",
    "    \n",
    "image1 = image1.detach().numpy()\n",
    "image2 = image2.detach().numpy()\n",
    "\n",
    "output4 = model1.forward4(output3)\n",
    "print(output4.size())\n",
    "image1_final = output4[0]\n",
    "image2_final = output4[1]\n",
    "    \n",
    "image1_final = image1_final.detach().numpy()\n",
    "image2_final = image2_final.detach().numpy()"
   ]
  },
  {
   "cell_type": "code",
   "execution_count": 22,
   "metadata": {},
   "outputs": [
    {
     "name": "stdout",
     "output_type": "stream",
     "text": [
      "[-0.02337858 -0.2678178   1.3306266   0.3940324   0.9472509  -1.5169369\n",
      " -1.983631   -0.3174115   0.36917752 -0.11920229  0.08217466  0.8511645\n",
      " -0.20488779 -0.26989353 -0.43249005  0.51765627 -0.39033395 -0.32686338\n",
      "  1.440205    0.32147992 -1.6649002  -0.47386897  0.27898955 -0.6301607\n",
      "  0.00831714 -0.4156308   0.15957013 -1.1028038  -0.58005524  0.34367836\n",
      "  0.25880444  0.7528628  -0.03889595 -0.37316954 -0.22837397  0.22389583\n",
      "  0.15148284  0.54468054  0.03610839  0.06004722 -0.30017078  0.2672003\n",
      "  0.6483822   0.5825532  -0.60200423  0.738138    0.2787594  -0.09702545\n",
      "  1.282822   -0.385741   -0.87626535 -0.44130683 -0.4647764   0.13512833\n",
      " -0.38403848  0.13420662  0.2980501  -0.6317556  -0.29158884 -0.7178237\n",
      " -1.5042399  -0.28546208  0.21600072 -0.46178398  0.7290343  -0.56695783\n",
      " -0.3558444   0.61223936 -0.49868092  0.27889675 -0.3947778  -0.92127967\n",
      "  1.2770573   0.7394395   0.5399979   0.18660833  0.31998968  0.7001457\n",
      " -0.0373721  -0.12124054  0.20375594  0.34004897 -1.0443257  -1.3026818\n",
      " -0.6183178  -0.12222204  0.25974464  1.5093107   0.6447156  -0.9205971\n",
      "  0.0677687  -0.40996382  0.6290636  -0.09589358  0.57917875 -1.1159391\n",
      " -0.5579424  -0.29152092 -0.5031007   1.4267144  -0.6258452   0.6445309\n",
      "  0.71647817 -0.17969157 -0.9735432   0.8631757   0.15022385  0.50872636\n",
      "  0.84288275 -0.6927208  -0.6103456   0.53422034  0.02389468 -0.20979202\n",
      " -0.60276717  0.8122922  -0.12944545 -0.3230175   0.65378743  0.10829655]\n",
      "--------------------------------------------------------------------------\n",
      "[ 3.68459642e-01  1.20069169e-01  1.65909529e-04  1.19637914e-01\n",
      "  8.80537927e-03 -4.36715037e-02  1.08372413e-01  3.64133447e-01\n",
      " -8.62767577e-01 -1.59970850e-01]\n",
      "--------------------------------------------------------------------------\n",
      "0\n"
     ]
    }
   ],
   "source": [
    "print(image1)\n",
    "print(\"--------------------------------------------------------------------------\")\n",
    "print(image1_final)\n",
    "print(\"--------------------------------------------------------------------------\")\n",
    "print(list(image1_final).index(image1_final.max()))"
   ]
  },
  {
   "cell_type": "code",
   "execution_count": 23,
   "metadata": {},
   "outputs": [
    {
     "name": "stdout",
     "output_type": "stream",
     "text": [
      "[ 0.07495224 -0.20977002  0.11497054  0.19474342  0.36837476  0.0163836\n",
      " -0.87438804 -0.17489117 -0.08174929 -0.08705129 -0.17019646  0.10848459\n",
      " -0.16333538 -0.4371122  -1.0953498  -0.16384095 -0.441641   -0.61608917\n",
      "  0.68703896 -0.01952407 -1.111576   -0.00248506 -0.05206943 -0.04170857\n",
      " -0.3018034   0.3419768  -0.8685432   0.01116402 -0.28500375  0.05597348\n",
      " -0.09501192  0.8192414  -0.12390502 -0.16134478 -0.4552295   0.03630499\n",
      "  0.71591854  0.54306734 -0.38311368  0.1282589  -0.06762393  0.15089053\n",
      " -0.55533904  0.22950521 -0.38252312  0.9741996   0.27726743 -0.61308575\n",
      "  0.41497377 -0.0380067   0.09536761  0.30487603 -0.3898705  -0.00363224\n",
      "  0.0383198  -0.52351743 -0.4290364  -0.80456823 -0.15618443 -0.7125625\n",
      " -0.61607766  0.18905948 -0.09937052 -0.5220593   0.5126646  -0.65930337\n",
      " -0.02665955  0.27743927 -1.1175517   0.22945967 -0.5427601  -0.20303097\n",
      "  0.7415756   0.12727831  0.3955673   0.4322294  -0.41617426  0.5449728\n",
      "  0.14125673  0.36622563 -0.00201    -0.11233611  0.14390749 -0.6676658\n",
      " -0.6255167  -0.37377137 -0.00873909  1.5457782   0.44125587  0.03431962\n",
      " -0.25130293  0.5415707  -0.33487535 -0.18229106  0.34080932 -0.44423828\n",
      "  0.11388884 -0.25653207 -0.74036515  1.418452   -0.94362044  0.5320125\n",
      "  0.5928677   0.06716804 -0.5183701   0.71200055 -0.37690634  0.17804748\n",
      "  0.54071987  0.40477663 -0.26664042 -0.10388544 -0.24852398  0.55221343\n",
      " -0.24196498  0.53073287  0.4603839   0.19622228  1.4283504   0.20616445]\n",
      "--------------------------------------------------------------------------\n",
      "[ 0.43888646 -0.14671573  0.07080418  0.19903573 -0.41190434 -0.20373355\n",
      "  0.15784544  0.23802263  0.07649343  0.13490534]\n",
      "--------------------------------------------------------------------------\n",
      "0\n"
     ]
    }
   ],
   "source": [
    "print(image2)\n",
    "print(\"--------------------------------------------------------------------------\")\n",
    "print(image2_final)\n",
    "print(\"--------------------------------------------------------------------------\")\n",
    "print(list(image2_final).index(image2_final.max()))"
   ]
  },
  {
   "cell_type": "markdown",
   "metadata": {},
   "source": [
    "#### cf) MNIST Distribution"
   ]
  },
  {
   "cell_type": "markdown",
   "metadata": {},
   "source": [
    "<img src=\"../../shared/MNIST_sample.png\" alt=\"Drawing\" style=\"width: 500px;\" align=\"left\"/>"
   ]
  }
 ],
 "metadata": {
  "kernelspec": {
   "display_name": "Python 3",
   "language": "python",
   "name": "python3"
  },
  "language_info": {
   "codemirror_mode": {
    "name": "ipython",
    "version": 3
   },
   "file_extension": ".py",
   "mimetype": "text/x-python",
   "name": "python",
   "nbconvert_exporter": "python",
   "pygments_lexer": "ipython3",
   "version": "3.6.5"
  }
 },
 "nbformat": 4,
 "nbformat_minor": 2
}

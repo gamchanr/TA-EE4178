{
 "cells": [
  {
   "cell_type": "markdown",
   "metadata": {},
   "source": [
    "# CNN (Convolutional Neural Network)"
   ]
  },
  {
   "cell_type": "markdown",
   "metadata": {},
   "source": [
    "## - MNIST [[See the Result First](#visualized)]"
   ]
  },
  {
   "cell_type": "markdown",
   "metadata": {},
   "source": [
    "#### (0) Define Hyper-parameters / Helper Function"
   ]
  },
  {
   "cell_type": "code",
   "execution_count": 1,
   "metadata": {
    "collapsed": true
   },
   "outputs": [],
   "source": [
    "import torch"
   ]
  },
  {
   "cell_type": "code",
   "execution_count": 2,
   "metadata": {
    "collapsed": true
   },
   "outputs": [],
   "source": [
    "# Device Configuration for Where the Tensors Be Operated\n",
    "device = torch.device('cuda' if torch.cuda.is_available() else 'cpu')\n",
    "\n",
    "# Adjust Model Structure Depends on the Data\n",
    "num_classes = 10\n",
    "in_channel = 1\n",
    "\n",
    "# Hyper-parameters\n",
    "batch_size = 1\n",
    "shuffle = False\n",
    "max_pool_kernel = 2\n",
    "learning_rate = 0.001\n",
    "num_epochs = 5"
   ]
  },
  {
   "cell_type": "markdown",
   "metadata": {},
   "source": [
    "#### (1) Load Data"
   ]
  },
  {
   "cell_type": "code",
   "execution_count": 3,
   "metadata": {
    "collapsed": true
   },
   "outputs": [],
   "source": [
    "import torchvision # To Download MNIST Datasets from Torch \n",
    "import torchvision.transforms as transforms # To Transform MNIST \"Images\" to \"Tensor\""
   ]
  },
  {
   "cell_type": "code",
   "execution_count": 4,
   "metadata": {
    "collapsed": true
   },
   "outputs": [],
   "source": [
    "train_data = torchvision.datasets.MNIST(root='./datasets',\n",
    "                                        train=True,\n",
    "                                        transform=transforms.ToTensor(),\n",
    "                                        download=True)\n",
    "\n",
    "test_data = torchvision.datasets.MNIST(root='./datasets',\n",
    "                                       train=False,\n",
    "                                       transform=transforms.ToTensor())"
   ]
  },
  {
   "cell_type": "markdown",
   "metadata": {},
   "source": [
    "#### (2) Define Dataloader"
   ]
  },
  {
   "cell_type": "code",
   "execution_count": 5,
   "metadata": {
    "collapsed": true
   },
   "outputs": [],
   "source": [
    "train_loader = torch.utils.data.DataLoader(dataset=train_data,\n",
    "                                           batch_size=batch_size,\n",
    "                                           shuffle=shuffle)\n",
    "\n",
    "test_loader = torch.utils.data.DataLoader(dataset=test_data,\n",
    "                                          batch_size=batch_size,\n",
    "                                          shuffle=False)"
   ]
  },
  {
   "cell_type": "code",
   "execution_count": 6,
   "metadata": {},
   "outputs": [
    {
     "name": "stdout",
     "output_type": "stream",
     "text": [
      "torch.Size([1, 1, 28, 28]) : [Batch, Channel, Height, Width] Respectively\n"
     ]
    }
   ],
   "source": [
    "# cf) check how data_loader works\n",
    "image, label = next(iter(train_loader))\n",
    "print(image.size(), \": [Batch, Channel, Height, Width] Respectively\")"
   ]
  },
  {
   "cell_type": "markdown",
   "metadata": {},
   "source": [
    "#### (3) Define Model"
   ]
  },
  {
   "cell_type": "code",
   "execution_count": 7,
   "metadata": {
    "collapsed": true
   },
   "outputs": [],
   "source": [
    "import torch.nn as nn"
   ]
  },
  {
   "cell_type": "code",
   "execution_count": 8,
   "metadata": {
    "collapsed": true
   },
   "outputs": [],
   "source": [
    "class ConvNet(nn.Module):\n",
    "    def __init__(self, num_classes=10):\n",
    "        super(ConvNet, self).__init__()\n",
    "        self.layer1 = nn.Sequential(\n",
    "                nn.Conv2d(in_channel, 16, 5, stride=1, padding=2),\n",
    "                nn.BatchNorm2d(16),\n",
    "                nn.ReLU(),\n",
    "                nn.MaxPool2d(max_pool_kernel))\n",
    "        self.layer2 = nn.Sequential(\n",
    "                nn.Conv2d(16, 32, 5, stride=1, padding=2),\n",
    "                nn.BatchNorm2d(32),\n",
    "                nn.ReLU(),\n",
    "                nn.MaxPool2d(max_pool_kernel))\n",
    "        self.fc1 = nn.Linear(7*7*32, 120)\n",
    "        self.fc2 = nn.Linear(120, num_classes)\n",
    "\n",
    "    def forward(self, x):\n",
    "        x = self.layer1(x)\n",
    "        x = self.layer2(x)\n",
    "        x = x.reshape(x.size(0), -1)\n",
    "        x = self.fc1(x)\n",
    "        x = self.fc2(x)\n",
    "        return x\n",
    "\n",
    "#class ConvNet(nn.Module):\n",
    "#    def __init__(self, num_classes=10):\n",
    "#        super(ConvNet, self).__init__()\n",
    "#        self.layer1 = nn.Sequential(\n",
    "#                nn.Conv2d(in_channel, 16, 5, stride=1, padding=2),\n",
    "#                nn.BatchNorm2d(16),\n",
    "#                nn.ReLU(),\n",
    "#                nn.MaxPool2d(max_pool_kernel))\n",
    "#        self.fc1 = nn.Linear(14*14*16, num_classes)\n",
    "#\n",
    "#    def forward(self, x):\n",
    "#        x = self.layer1(x)\n",
    "#        x = x.reshape(x.size(0), -1)\n",
    "#        x = self.fc1(x)\n",
    "#        return x\n",
    "\n",
    "model = ConvNet(num_classes).to(device) # Copy All Tensors to GPU (if possible)"
   ]
  },
  {
   "cell_type": "markdown",
   "metadata": {},
   "source": [
    "#### (4) Set Loss & Optimizer"
   ]
  },
  {
   "cell_type": "code",
   "execution_count": 9,
   "metadata": {
    "collapsed": true
   },
   "outputs": [],
   "source": [
    "criterion = nn.CrossEntropyLoss()\n",
    "optimizer = torch.optim.Adam(model.parameters(), lr=learning_rate)"
   ]
  },
  {
   "cell_type": "markdown",
   "metadata": {},
   "source": [
    "#### (5) Train / Test"
   ]
  },
  {
   "cell_type": "code",
   "execution_count": null,
   "metadata": {
    "collapsed": true
   },
   "outputs": [],
   "source": [
    "total_step = len(train_loader)\n",
    "for epoch in range(num_epochs):\n",
    "    for i, (images, labels) in enumerate(train_loader):\n",
    "        # Assign Tensors to Configured Device\n",
    "        images = images.to(device)\n",
    "        labels = labels.to(device)\n",
    "\n",
    "        # Forward Propagation\n",
    "        outputs = model(images)\n",
    "\n",
    "        # Get Loss, Compute Gradient, Update Parameters\n",
    "        loss = criterion(outputs, labels)\n",
    "        optimizer.zero_grad()\n",
    "        loss.backward()\n",
    "        optimizer.step()\n",
    "\n",
    "        # Print Loss for Tracking Training\n",
    "        if (i+1) % 1000 == 0:\n",
    "            print('Epoch [{}/{}], Step [{}/{}], Loss: {:.4f}'.format(epoch+1, num_epochs, i+1, total_step, loss.item()))\n",
    "            test_image, test_label = next(iter(test_loader))\n",
    "            _, test_predicted = torch.max(model(test_image.to(device)).data, 1)\n",
    "            print('Testing data: [Predicted: {} / Real: {}]'.format(test_predicted, test_label))\n",
    "\n",
    "    if epoch+1 == num_epochs:\n",
    "        torch.save(model.state_dict(), 'model.pth')\n",
    "    else:\n",
    "        torch.save(model.state_dict(), 'model-{:02d}_epochs.pth'.format(epoch+1))\n",
    "\n",
    "# Test after Training is done\n",
    "model.eval() # Set model to Evaluation Mode (Batchnorm uses moving mean/var instead of mini-batch mean/var)\n",
    "with torch.no_grad():\n",
    "    correct = 0\n",
    "    total = 0\n",
    "    for images, labels in test_loader:\n",
    "        images = images.to(device)\n",
    "        labels = labels.to(device)\n",
    "        outputs = model(images)\n",
    "        _, predicted = torch.max(outputs.data, 1)\n",
    "        total += labels.size(0)\n",
    "        correct += (predicted == labels).sum().item()\n",
    "\n",
    "    print('Accuracy of the network on the {} test images: {} %'.format(len(test_loader)*batch_size, 100 * correct / total))"
   ]
  },
  {
   "cell_type": "markdown",
   "metadata": {
    "collapsed": true
   },
   "source": [
    "<h2 id='visualized'> cf) Process in Visualization </h3>"
   ]
  },
  {
   "cell_type": "markdown",
   "metadata": {},
   "source": [
    "<img src=\"../../shared/CNN_MNIST_process.png\" alt=\"Drawing\" style=\"width: 800px;\" align=\"left\"/>"
   ]
  },
  {
   "cell_type": "markdown",
   "metadata": {},
   "source": [
    "#### (0) Prepare for Visualization"
   ]
  },
  {
   "cell_type": "code",
   "execution_count": 10,
   "metadata": {
    "collapsed": true
   },
   "outputs": [],
   "source": [
    "# cf) Check How the Data is Formed\n",
    "from matplotlib.pyplot import imshow\n",
    "import matplotlib.pyplot as plt\n",
    "import numpy as np\n",
    "# For Displaying Inline Style (Only for .ipynb fileformat)\n",
    "%matplotlib inline \n",
    "\n",
    "visual_loader = torch.utils.data.DataLoader(dataset=train_data,\n",
    "                                            batch_size=2,\n",
    "                                            shuffle=shuffle)\n",
    "\n",
    "class ConvNetBreakDown(nn.Module):\n",
    "    def __init__(self, num_classes=10):\n",
    "        super(ConvNetBreakDown, self).__init__()\n",
    "        self.layer1 = nn.Sequential(\n",
    "                nn.Conv2d(in_channel, 16, 5, stride=1, padding=2),\n",
    "                nn.BatchNorm2d(16),\n",
    "                nn.ReLU(),\n",
    "                nn.MaxPool2d(max_pool_kernel))\n",
    "        self.layer2 = nn.Sequential(\n",
    "                nn.Conv2d(16, 32, 5, stride=1, padding=2),\n",
    "                nn.BatchNorm2d(32),\n",
    "                nn.ReLU(),\n",
    "                nn.MaxPool2d(max_pool_kernel))\n",
    "        self.fc1 = nn.Linear(7*7*32, 120)\n",
    "        self.fc2 = nn.Linear(120, num_classes)\n",
    "\n",
    "    def forward1(self, x):\n",
    "        x = self.layer1(x)\n",
    "        return x\n",
    "    \n",
    "    def forward2(self, x):\n",
    "        x = self.layer2(x)\n",
    "        return x\n",
    "    \n",
    "    def forward3(self, x):\n",
    "        x = x.reshape(x.size(0), -1)\n",
    "        x = self.fc1(x)\n",
    "        return x\n",
    "    \n",
    "    def forward4(self, x):\n",
    "        x = self.fc2(x)\n",
    "        return x\n",
    "\n",
    "model1 = ConvNetBreakDown()\n",
    "\n",
    "def image_show(one_image_tensor):\n",
    "    image = one_image_tensor.reshape(one_image_tensor.size()[1], one_image_tensor.size()[2])\n",
    "    imshow(image, cmap='gray')\n",
    "\n",
    "images, _ = next(iter(visual_loader))\n",
    "image1 = images[0]\n",
    "image2 = images[1]"
   ]
  },
  {
   "cell_type": "markdown",
   "metadata": {},
   "source": [
    "#### (1) Row MNIST Image Data"
   ]
  },
  {
   "cell_type": "code",
   "execution_count": 11,
   "metadata": {},
   "outputs": [
    {
     "data": {
      "image/png": "[encoded data removed]",
      "text/plain": [
       "<Figure size 432x288 with 1 Axes>"
      ]
     },
     "metadata": {},
     "output_type": "display_data"
    }
   ],
   "source": [
    "image_show(image1)"
   ]
  },
  {
   "cell_type": "code",
   "execution_count": 12,
   "metadata": {},
   "outputs": [
    {
     "data": {
      "image/png": "[encoded data removed]",
      "text/plain": [
       "<Figure size 432x288 with 1 Axes>"
      ]
     },
     "metadata": {},
     "output_type": "display_data"
    }
   ],
   "source": [
    "image_show(image2)"
   ]
  },
  {
   "cell_type": "markdown",
   "metadata": {},
   "source": [
    "#### (2) After CNN1 "
   ]
  },
  {
   "cell_type": "code",
   "execution_count": 13,
   "metadata": {},
   "outputs": [
    {
     "name": "stdout",
     "output_type": "stream",
     "text": [
      "torch.Size([2, 16, 14, 14])\n"
     ]
    }
   ],
   "source": [
    "\n",
    "# output1 = model1(images)\n",
    "output1 = model1.forward1(images)\n",
    "print(output1.size())\n",
    "\n",
    "image1 = torch.zeros(14,14)\n",
    "image2 = torch.zeros(14,14)\n",
    "for i in range(output1.size()[1]):\n",
    "    image1 += output1[0][i].reshape(14,14)\n",
    "    image2 += output1[1][i].reshape(14,14)\n",
    "    \n",
    "image1 = image1.detach().numpy()\n",
    "image2 = image2.detach().numpy()\n",
    "\n",
    "# show_n_images(1, 2, [temp, temp2])"
   ]
  },
  {
   "cell_type": "code",
   "execution_count": 14,
   "metadata": {},
   "outputs": [
    {
     "data": {
      "text/plain": [
       "<matplotlib.image.AxesImage at 0x11e6822e8>"
      ]
     },
     "execution_count": 14,
     "metadata": {},
     "output_type": "execute_result"
    },
    {
     "data": {
      "image/png": "[encoded data removed]",
      "text/plain": [
       "<Figure size 432x288 with 1 Axes>"
      ]
     },
     "metadata": {},
     "output_type": "display_data"
    }
   ],
   "source": [
    "imshow(image1, cmap='gray')"
   ]
  },
  {
   "cell_type": "code",
   "execution_count": 15,
   "metadata": {},
   "outputs": [
    {
     "data": {
      "text/plain": [
       "<matplotlib.image.AxesImage at 0x11e6efda0>"
      ]
     },
     "execution_count": 15,
     "metadata": {},
     "output_type": "execute_result"
    },
    {
     "data": {
      "image/png": "[encoded data removed]",
      "text/plain": [
       "<Figure size 432x288 with 1 Axes>"
      ]
     },
     "metadata": {},
     "output_type": "display_data"
    }
   ],
   "source": [
    "imshow(image2, cmap='gray')"
   ]
  },
  {
   "cell_type": "markdown",
   "metadata": {},
   "source": [
    "#### (3) After CNN2"
   ]
  },
  {
   "cell_type": "code",
   "execution_count": 16,
   "metadata": {},
   "outputs": [
    {
     "name": "stdout",
     "output_type": "stream",
     "text": [
      "torch.Size([2, 32, 7, 7])\n"
     ]
    }
   ],
   "source": [
    "output2 = model1.forward2(output1)\n",
    "print(output2.size())\n",
    "image1 = torch.zeros(7,7)\n",
    "image2 = torch.zeros(7,7)\n",
    "for i in range(output2.size()[1]):\n",
    "    image1 += output2[0][i].reshape(7,7)\n",
    "    image2 += output2[1][i].reshape(7,7)\n",
    "    \n",
    "image1 = image1.detach().numpy()\n",
    "image2 = image2.detach().numpy()"
   ]
  },
  {
   "cell_type": "code",
   "execution_count": 17,
   "metadata": {},
   "outputs": [
    {
     "data": {
      "text/plain": [
       "<matplotlib.image.AxesImage at 0x11e8626d8>"
      ]
     },
     "execution_count": 17,
     "metadata": {},
     "output_type": "execute_result"
    },
    {
     "data": {
      "image/png": "[encoded data removed]",
      "text/plain": [
       "<Figure size 432x288 with 1 Axes>"
      ]
     },
     "metadata": {},
     "output_type": "display_data"
    }
   ],
   "source": [
    "imshow(image1, cmap='gray')"
   ]
  },
  {
   "cell_type": "code",
   "execution_count": 18,
   "metadata": {},
   "outputs": [
    {
     "data": {
      "text/plain": [
       "<matplotlib.image.AxesImage at 0x11baed5c0>"
      ]
     },
     "execution_count": 18,
     "metadata": {},
     "output_type": "execute_result"
    },
    {
     "data": {
      "image/png": "[encoded data removed]",
      "text/plain": [
       "<Figure size 432x288 with 1 Axes>"
      ]
     },
     "metadata": {},
     "output_type": "display_data"
    }
   ],
   "source": [
    "imshow(image2, cmap='gray')"
   ]
  },
  {
   "cell_type": "markdown",
   "metadata": {},
   "source": [
    "#### (4) After Affine (Fully Connected) Layer"
   ]
  },
  {
   "cell_type": "code",
   "execution_count": 19,
   "metadata": {},
   "outputs": [
    {
     "name": "stdout",
     "output_type": "stream",
     "text": [
      "torch.Size([2, 120])\n",
      "torch.Size([2, 10])\n"
     ]
    }
   ],
   "source": [
    "output3 = model1.forward3(output2)\n",
    "print(output3.size())\n",
    "image1 = output3[0]\n",
    "image2 = output3[1]\n",
    "    \n",
    "image1 = image1.detach().numpy()\n",
    "image2 = image2.detach().numpy()\n",
    "\n",
    "output4 = model1.forward4(output3)\n",
    "print(output4.size())\n",
    "image1_final = output4[0]\n",
    "image2_final = output4[1]\n",
    "    \n",
    "image1_final = image1_final.detach().numpy()\n",
    "image2_final = image2_final.detach().numpy()"
   ]
  },
  {
   "cell_type": "code",
   "execution_count": 20,
   "metadata": {},
   "outputs": [
    {
     "name": "stdout",
     "output_type": "stream",
     "text": [
      "[-0.12028497 -1.0985287   0.4850386  -0.728275    1.2114327   0.6253091\n",
      "  0.44055012 -0.13699892  0.39214814  0.84104216  0.8575424  -1.5009484\n",
      "  1.8392613   0.04489582  0.7690231   0.06300145  0.44038886  0.3149195\n",
      " -0.14711145 -0.3428159  -0.6596799   1.2041519  -0.64836204  0.44204956\n",
      " -1.0003519  -1.1528697  -0.23321263 -0.35875556  0.31533852  0.23203489\n",
      "  0.04689763 -0.27674186  0.12963687  0.4106165   0.24743658 -0.33677253\n",
      "  0.40609843  0.5481664  -0.4621819  -0.19970709  1.3267375   0.522119\n",
      " -0.8283643   0.08727041 -0.78836304  0.97165513 -0.84709245  0.5733197\n",
      " -0.49175176 -0.58251107 -0.2812832  -1.3301613  -0.14121164 -0.10186651\n",
      "  0.6415606  -0.48582208 -0.5331739  -0.39114884 -0.27465406 -0.9931074\n",
      " -0.93980455 -0.8516038   0.27708876  1.5435843  -0.25806853 -0.39325136\n",
      " -0.30420864 -0.7513258  -0.0341926   0.87174517  0.4729074  -0.26518688\n",
      " -0.549304    0.21443397  0.25508258  0.89327776  0.48445842  0.8846024\n",
      " -0.02477154  0.47946563  0.8574825  -0.04841282  0.34018433  0.03485578\n",
      " -0.77349144  0.70680946  0.02847078 -0.5991818   0.78424853 -0.57159424\n",
      " -0.04729854 -0.05398352  0.6445247   0.39064592  0.25667447  0.00526526\n",
      "  0.3895585   0.8492781  -0.6910572   0.4870932  -0.00777014 -0.11120975\n",
      "  0.2183927  -0.27805272  0.5409892   0.52987343  0.64392287 -0.3944133\n",
      " -0.37733686  0.72140247  0.05320372 -0.28997368  1.4140948   0.62532246\n",
      "  0.51704395  0.31183052  0.3696591  -0.9874227   0.03226621 -1.0870045 ]\n",
      "--------------------------------------------------------------------------\n",
      "[ 0.11661802  0.3375192   0.08883916 -0.05777577  0.00986988  0.02988132\n",
      "  0.42950028 -0.20642853  0.11977065 -0.45645922]\n",
      "--------------------------------------------------------------------------\n",
      "6\n"
     ]
    }
   ],
   "source": [
    "print(image1)\n",
    "print(\"--------------------------------------------------------------------------\")\n",
    "print(image1_final)\n",
    "print(\"--------------------------------------------------------------------------\")\n",
    "print(list(image1_final).index(image1_final.max()))"
   ]
  },
  {
   "cell_type": "code",
   "execution_count": 21,
   "metadata": {},
   "outputs": [
    {
     "name": "stdout",
     "output_type": "stream",
     "text": [
      "[ 0.27697155 -0.89009744  0.21073903 -0.6986475   1.2725148   0.85685205\n",
      " -0.25423    -0.30670643 -0.7318788   0.9729396   1.1517552  -0.47549048\n",
      "  0.88385355  0.3100457   1.0154263  -0.3556156   0.23670219  0.338034\n",
      "  0.46064958 -0.40188047 -0.54538363  1.6852645  -0.41062674  0.3301832\n",
      " -0.69334996 -0.56228906 -0.26300347  0.156826    0.69236475 -0.8518896\n",
      "  0.23722425  0.6298126   0.8281198   0.95820785 -0.23028998  0.32788485\n",
      "  0.11015481  1.0658542  -0.47614995  0.71779984  1.0419674   0.4362652\n",
      " -0.0773547   0.18452701 -0.687871    0.8819567  -1.0103335  -0.2912719\n",
      " -0.17078698 -1.1520836  -0.47803688 -0.2688221   1.0838035  -0.24245948\n",
      "  0.8436424  -0.6032392  -0.4298684  -0.77947086 -0.06708682 -0.58575416\n",
      " -1.2106805  -1.2226864   0.8818613   0.9467422   0.00869486 -0.9626736\n",
      "  0.46140364 -0.292957   -1.0638226   1.7632109   0.60199213 -0.33141425\n",
      "  0.23110309  0.33741    -0.26231036  0.44024175  0.14430264  0.16507037\n",
      " -0.24985161 -0.3388356   1.0237356  -0.25636685  0.37010983 -0.31571394\n",
      " -1.4682783   0.34300685 -0.03119495 -0.9830321   0.5455309  -0.8216932\n",
      "  0.5944531   0.5297768   0.41281664  0.06048197  0.2690819   0.09129305\n",
      " -0.03739539  0.19453883 -0.33236685  0.05502082 -0.27488318 -0.6891199\n",
      "  0.7844312  -0.48859522  0.6522682   0.40598506 -0.15555558 -0.27764907\n",
      " -0.3480894   0.9097025  -0.39560738 -0.8913371   1.0325834  -0.01321474\n",
      "  0.41227323  0.17097919  0.84490734 -0.61120987 -0.17026821 -0.56685   ]\n",
      "--------------------------------------------------------------------------\n",
      "[ 0.49646395 -0.17288375 -0.07940409  0.00182685  0.2170991   0.33367413\n",
      "  0.30928916 -0.01690087 -0.16446376 -0.6673762 ]\n",
      "--------------------------------------------------------------------------\n",
      "0\n"
     ]
    }
   ],
   "source": [
    "print(image2)\n",
    "print(\"--------------------------------------------------------------------------\")\n",
    "print(image2_final)\n",
    "print(\"--------------------------------------------------------------------------\")\n",
    "print(list(image2_final).index(image2_final.max()))"
   ]
  },
  {
   "cell_type": "markdown",
   "metadata": {},
   "source": [
    "#### cf) MNIST Distribution"
   ]
  },
  {
   "cell_type": "markdown",
   "metadata": {},
   "source": [
    "<img src=\"../../shared/MNIST_sample.png\" alt=\"Drawing\" style=\"width: 500px;\" align=\"left\"/>"
   ]
  }
 ],
 "metadata": {
  "kernelspec": {
   "display_name": "Python 3",
   "language": "python",
   "name": "python3"
  },
  "language_info": {
   "codemirror_mode": {
    "name": "ipython",
    "version": 3
   },
   "file_extension": ".py",
   "mimetype": "text/x-python",
   "name": "python",
   "nbconvert_exporter": "python",
   "pygments_lexer": "ipython3",
   "version": "3.6.5"
  }
 },
 "nbformat": 4,
 "nbformat_minor": 2
}

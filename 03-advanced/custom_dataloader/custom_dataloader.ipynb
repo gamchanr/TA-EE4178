{
 "cells": [
  {
   "cell_type": "markdown",
   "metadata": {},
   "source": [
    "# Custom Dataloader"
   ]
  },
  {
   "cell_type": "markdown",
   "metadata": {},
   "source": [
    "* 목표: Custom Dataset(.npy or etc)을 `torch.utils.data.DataLoader` 가 '적절하게' 빼올 수 있도록 준비하는 과정"
   ]
  },
  {
   "cell_type": "markdown",
   "metadata": {},
   "source": [
    "## - ex) FONT-50 (final project dataset) Dataloader"
   ]
  },
  {
   "cell_type": "markdown",
   "metadata": {},
   "source": [
    "#### (0) torch.utils.data.Dataset 상속받기"
   ]
  },
  {
   "cell_type": "code",
   "execution_count": 1,
   "metadata": {},
   "outputs": [],
   "source": [
    "import numpy as np\n",
    "import torch\n",
    "import os\n",
    "import glob\n",
    "from torch.utils.data import Dataset"
   ]
  },
  {
   "cell_type": "code",
   "execution_count": 2,
   "metadata": {},
   "outputs": [],
   "source": [
    "class FontDataset(Dataset):\n",
    "    def __init__(self, dataroot):\n",
    "        pass"
   ]
  },
  {
   "cell_type": "markdown",
   "metadata": {},
   "source": [
    "#### (1) __init__ / __getitem__ / __len__ 정의하기"
   ]
  },
  {
   "cell_type": "markdown",
   "metadata": {},
   "source": [
    "cf) [python dunder](https://mingrammer.com/underscore-in-python/): 주로 한 모듈 내부에서만 사용하는 private 클래스/함수/변수/메서드를 선언할 때 사용하는 컨벤션"
   ]
  },
  {
   "cell_type": "markdown",
   "metadata": {},
   "source": [
    "i. `__init__` 정의하기: 클래스 연산에 필요한 항목들 정의, 준비"
   ]
  },
  {
   "cell_type": "code",
   "execution_count": 3,
   "metadata": {},
   "outputs": [],
   "source": [
    "class FontDataset(Dataset):\n",
    "    def __init__(self, dataroot):\n",
    "        entry = []\n",
    "        files = glob.glob1(dataroot, '*.npy')\n",
    "        for f in files:\n",
    "            f = os.path.join(dataroot, f)\n",
    "            entry.append(f)\n",
    "            \n",
    "        self.entry = sorted(entry)"
   ]
  },
  {
   "cell_type": "markdown",
   "metadata": {
    "collapsed": true
   },
   "source": [
    "<img src=\"../../shared/custom_combined.png\" alt=\"Drawing\" style=\"width: 1000px;\" align=\"left\"/>"
   ]
  },
  {
   "cell_type": "markdown",
   "metadata": {},
   "source": [
    "ii. `__getitem__` 정의하기: 데이터를 로드하고 가공하여 return"
   ]
  },
  {
   "cell_type": "code",
   "execution_count": 4,
   "metadata": {},
   "outputs": [],
   "source": [
    "class FontDataset(Dataset):\n",
    "    def __init__(self, dataroot):\n",
    "        entry = []\n",
    "        files = glob.glob1(dataroot, '*.npy')\n",
    "        for f in files:\n",
    "            f = os.path.join(dataroot, f)\n",
    "            entry.append(f)\n",
    "            \n",
    "        self.entry = sorted(entry)\n",
    "        \n",
    "    def __getitem__(self, index):\n",
    "        single_npy_path = self.entry[index] # entry 중 index번째 데이터 반환\n",
    "        \n",
    "        single_npy = np.load(single_npy_path, allow_pickle=True)[0] # Single Data\n",
    "        single_npy_tensor = torch.from_numpy(single_npy) # Transform Numpy to Tensor\n",
    "        \n",
    "        single_npy_label = np.load(single_npy_path, allow_pickle=True)[1] # Single Label (Saved as 'int' originally. Doesn't need to transform into torch tensor)\n",
    "\n",
    "        return (single_npy_tensor, single_npy_label)\n"
   ]
  },
  {
   "cell_type": "markdown",
   "metadata": {},
   "source": [
    "iii. (optional) `__len__` 정의하기: 데이터셋 크기 반환"
   ]
  },
  {
   "cell_type": "code",
   "execution_count": 5,
   "metadata": {},
   "outputs": [],
   "source": [
    "class FontDataset(Dataset):\n",
    "    def __init__(self, dataroot):\n",
    "        entry = []\n",
    "        files = glob.glob1(dataroot, '*.npy')\n",
    "        for f in files:\n",
    "            f = os.path.join(dataroot, f)\n",
    "            entry.append(f)\n",
    "            \n",
    "        self.entry = sorted(entry)\n",
    "        \n",
    "    def __getitem__(self, index):\n",
    "        single_npy_path = self.entry[index] # entry 중 index번째 데이터 반환\n",
    "        \n",
    "        single_npy = np.load(single_npy_path, allow_pickle=True)[0] # Single Data\n",
    "        single_npy_tensor = torch.from_numpy(single_npy) # Transform Numpy to Tensor\n",
    "        \n",
    "        single_npy_label = np.load(single_npy_path, allow_pickle=True)[1] # Single Label (Saved as 'int' originally. Doesn't need to transform into torch tensor)\n",
    "\n",
    "        return (single_npy_tensor, single_npy_label)\n",
    "\n",
    "    def __len__(self):\n",
    "        return len(self.entry)"
   ]
  },
  {
   "cell_type": "markdown",
   "metadata": {},
   "source": [
    "<hr>"
   ]
  },
  {
   "cell_type": "markdown",
   "metadata": {},
   "source": [
    "## ref"
   ]
  },
  {
   "cell_type": "markdown",
   "metadata": {},
   "source": [
    "* [pytorch.org - Writing Custom Datasets, Dataloaders and Transforms](https://pytorch.org/tutorials/beginner/data_loading_tutorial.html)\n",
    "* [How to User Pytorch Custom DataLoader](https://greeksharifa.github.io/pytorch/2018/11/10/pytorch-usage-03-How-to-Use-PyTorch/#custom-dataloader-%EB%A7%8C%EB%93%A4%EA%B8%B0)"
   ]
  }
 ],
 "metadata": {
  "kernelspec": {
   "display_name": "Python 3",
   "language": "python",
   "name": "python3"
  },
  "language_info": {
   "codemirror_mode": {
    "name": "ipython",
    "version": 3
   },
   "file_extension": ".py",
   "mimetype": "text/x-python",
   "name": "python",
   "nbconvert_exporter": "python",
   "pygments_lexer": "ipython3",
   "version": "3.7.5"
  }
 },
 "nbformat": 4,
 "nbformat_minor": 2
}

{
 "cells": [
  {
   "cell_type": "markdown",
   "metadata": {},
   "source": [
    "# Transfer Learning + Model 저장하고 불러오기"
   ]
  },
  {
   "cell_type": "markdown",
   "metadata": {},
   "source": [
    "## Model 저장하고 불러오기"
   ]
  },
  {
   "cell_type": "markdown",
   "metadata": {},
   "source": [
    "#### (0) Background\n",
    "* model.state_dict(): torch.nn.Module 를 상속받은 모델의 학습 가능한 매개변수(ex. weight, bias)가 python dict형태로 저장된 객체\n",
    "\n",
    "    ex)\n",
    "    ```\n",
    "    for param_tensor in model.state_dict():\n",
    "        print(param_tensor, \"\\t\", model.state_dict()[param_tensor].size())\n",
    "    >>>\n",
    "    Model's state_dict:\n",
    "    conv1.weight     torch.Size([6, 3, 5, 5])\n",
    "    conv1.bias   torch.Size([6])\n",
    "    ```"
   ]
  },
  {
   "cell_type": "markdown",
   "metadata": {},
   "source": [
    "#### (1) save / load 기본구조\n",
    "저장하기: 저장하고자 하는 python OBJ를 pickle을 사용하여 binary로 저장\n",
    "    * pickle: python obj를 binary형태로 직렬화(serialize)\n",
    "\n",
    "ex)\n",
    "```\n",
    "torch.save(model.state_dict(), PATH)\n",
    "```\n",
    "\n",
    "불러오기: 불러오고자 하는 binary형태의 python OBJ를 pickle을 사용하여 병렬화(de-serialize)**한 후** model에 로드\n",
    "\n",
    "ex)\n",
    "```\n",
    "device = torch.device('cuda' if torch.cuda.is_available() else 'cpu')\n",
    "\n",
    "# 방법 1\n",
    "ckpt = torch.load('results/pths/NAME.pth', map_location=device)\n",
    "model.load_state_dict(ckpt)\n",
    "# 방법 2\n",
    "model.load_state_dict(torch.load('results/pths/NAME.pth', map_location=device))\n",
    "```"
   ]
  },
  {
   "cell_type": "markdown",
   "metadata": {},
   "source": [
    "#### (2) 상황에 따른 save / load 방법\n",
    "1. state_dict 만 저장(권장) - **PATH 확장자는 .pt / .pth 가 일반적**\n",
    "\n",
    "    ex 저장하기)\n",
    "    ```\n",
    "    torch.save(model.state_dict(), PATH)\n",
    "    ```\n",
    "\n",
    "    ex 불러오기) **model 초기화를 먼저 수행해줘야**\n",
    "    ```\n",
    "    device = torch.device('cuda' if torch.cuda.is_available() else 'cpu')\n",
    "\n",
    "    model = TheModelClass(*args, **kwargs)\n",
    "    model = model.to(device)\n",
    "    model.load_state_dict(torch.load(PATH))\n",
    "    ```\n",
    "<hr>\n",
    "1. 학습 재개를 위한 Model 저장하기 (**PATH 확장자는 .tar 가 일반적**) - 학습 재개를 위해 ckpt를 저장할 때는 state_dict 뿐만 아니라 학습에 필요한 다른 정보(ex. optimizer state_dict, epoch, loss 등)도 함께 저장 \n",
    "\n",
    "    ex 저장하기)\n",
    "    ```\n",
    "    torch.save({\n",
    "                'epoch': epoch,\n",
    "                'model_state_dict': model.state_dict(),\n",
    "                'optimizer_state_dict': optimizer.state_dict(),\n",
    "                'loss': loss,\n",
    "                ...\n",
    "                }, PATH)\n",
    "    ```\n",
    "\n",
    "    ex 불러오기) **model, optimizer 초기화를 먼저 수행해줘야**\n",
    "    ```\n",
    "    device = torch.device('cuda' if torch.cuda.is_available() else 'cpu')\n",
    "    \n",
    "    model = TheModelClass(*args, **kwargs)\n",
    "    model.to(device)\n",
    "    optimizer = TheOptimizerClass(*args, **kwargs)\n",
    "\n",
    "    checkpoint = torch.load(PATH)\n",
    "    model.load_state_dict(checkpoint['model_state_dict'])\n",
    "    optimizer.load_state_dict(checkpoint['optimizer_state_dict'])\n",
    "    epoch = checkpoint['epoch']\n",
    "    loss = checkpoint['loss']\n",
    "\n",
    "    # then take either action\n",
    "    model.eval()\n",
    "    # or\n",
    "    model.train()\n",
    "    ```\n",
    "<hr>\n",
    "1. 여러 Model 한번에 저장하기(**PATH 확장자는 .tar 가 일반적**) - 여러개의 torch.nn.Module을 상속받은 모델들을 저장할 때 \n",
    "\n",
    "    ex 저장하기)\n",
    "    ```\n",
    "    torch.save({\n",
    "                'modelA_state_dict': modelA.state_dict(),\n",
    "                'modelB_state_dict': modelB.state_dict(),\n",
    "                'optimizerA_state_dict': optimizerA.state_dict(),\n",
    "                'optimizerB_state_dict': optimizerB.state_dict(),\n",
    "                ...\n",
    "                }, PATH)\n",
    "    ```\n",
    "\n",
    "    ex 불러오기) **model들, optimizer들 초기화를 먼저 수행해줘야**\n",
    "    ```\n",
    "    device = torch.device('cuda' if torch.cuda.is_available() else 'cpu')\n",
    "    \n",
    "    modelA = TheModelAClass(*args, **kwargs)\n",
    "    modelA.to(device)\n",
    "    modelB = TheModelBClass(*args, **kwargs)\n",
    "    modelB.to(device)\n",
    "    optimizerA = TheOptimizerAClass(*args, **kwargs)\n",
    "    optimizerB = TheOptimizerBClass(*args, **kwargs)\n",
    "\n",
    "    checkpoint = torch.load(PATH)\n",
    "    modelA.load_state_dict(checkpoint['modelA_state_dict'])\n",
    "    modelB.load_state_dict(checkpoint['modelB_state_dict'])\n",
    "    optimizerA.load_state_dict(checkpoint['optimizerA_state_dict'])\n",
    "    optimizerB.load_state_dict(checkpoint['optimizerB_state_dict'])\n",
    "\n",
    "    # then take either action\n",
    "    modelA.eval()\n",
    "    modelB.eval()\n",
    "    # - or -\n",
    "    modelA.train()\n",
    "    modelB.train()\n",
    "    ```\n",
    "<hr>\n",
    "1. Model 전체 저장(비권장)\n",
    "\n",
    "    ex 저장하기)\n",
    "    ```\n",
    "    torch.save(model, PATH)\n",
    "    ```\n",
    "    \n",
    "    ex 불러오기) \n",
    "    ```\n",
    "    model = torch.load(PATH)\n",
    "    ```\n",
    "    "
   ]
  },
  {
   "cell_type": "markdown",
   "metadata": {},
   "source": [
    "## Transfer Learning - ex) CIFAR10 pre-trained model to FONT-50 (final project dataset)"
   ]
  },
  {
   "cell_type": "markdown",
   "metadata": {},
   "source": [
    "#### (0) Find suitable pre-trained model to our cusom dataset"
   ]
  },
  {
   "cell_type": "markdown",
   "metadata": {
    "collapsed": true
   },
   "source": [
    "<img src=\"../../shared/TL_final.png\" alt=\"Drawing\" style=\"width: 1000px;\" align=\"left\"/>"
   ]
  },
  {
   "cell_type": "markdown",
   "metadata": {},
   "source": [
    "#### (1) Load Pre-trained Model"
   ]
  },
  {
   "cell_type": "code",
   "execution_count": 1,
   "metadata": {},
   "outputs": [],
   "source": [
    "from cnn import ConvNet\n",
    "import torch\n",
    "import torch.nn as nn\n",
    "\n",
    "device = torch.device('cuda' if torch.cuda.is_available() else 'cpu')"
   ]
  },
  {
   "cell_type": "code",
   "execution_count": 2,
   "metadata": {},
   "outputs": [
    {
     "data": {
      "text/plain": [
       "<All keys matched successfully>"
      ]
     },
     "execution_count": 2,
     "metadata": {},
     "output_type": "execute_result"
    }
   ],
   "source": [
    "model = ConvNet().to(device)\n",
    "model.load_state_dict(torch.load('./pths/cifar10_pre_model.pth', map_location=device))"
   ]
  },
  {
   "cell_type": "code",
   "execution_count": 3,
   "metadata": {},
   "outputs": [
    {
     "name": "stdout",
     "output_type": "stream",
     "text": [
      "===== Loaded Pre-trained Model ===== \n",
      " ConvNet(\n",
      "  (layer1): Sequential(\n",
      "    (0): Conv2d(3, 16, kernel_size=(5, 5), stride=(1, 1), padding=(2, 2))\n",
      "    (1): BatchNorm2d(16, eps=1e-05, momentum=0.1, affine=True, track_running_stats=True)\n",
      "    (2): ReLU()\n",
      "    (3): MaxPool2d(kernel_size=2, stride=2, padding=0, dilation=1, ceil_mode=False)\n",
      "  )\n",
      "  (layer2): Sequential(\n",
      "    (0): Conv2d(16, 32, kernel_size=(5, 5), stride=(1, 1), padding=(2, 2))\n",
      "    (1): BatchNorm2d(32, eps=1e-05, momentum=0.1, affine=True, track_running_stats=True)\n",
      "    (2): ReLU()\n",
      "    (3): MaxPool2d(kernel_size=2, stride=2, padding=0, dilation=1, ceil_mode=False)\n",
      "  )\n",
      "  (fc1): Linear(in_features=2048, out_features=120, bias=True)\n",
      "  (fc2): Linear(in_features=120, out_features=10, bias=True)\n",
      ")\n"
     ]
    }
   ],
   "source": [
    "print(\"===== Loaded Pre-trained Model =====\", \"\\n\", model)"
   ]
  },
  {
   "cell_type": "markdown",
   "metadata": {},
   "source": [
    "#### (2) Edit Model (Freeze + Edit)"
   ]
  },
  {
   "cell_type": "markdown",
   "metadata": {},
   "source": [
    "* Freeze Loaded Model's Parameters"
   ]
  },
  {
   "cell_type": "code",
   "execution_count": 4,
   "metadata": {},
   "outputs": [],
   "source": [
    "for params in model.parameters():\n",
    "    params.requires_grad = False"
   ]
  },
  {
   "cell_type": "markdown",
   "metadata": {},
   "source": [
    "* Edit Loaded Model"
   ]
  },
  {
   "cell_type": "code",
   "execution_count": 5,
   "metadata": {},
   "outputs": [],
   "source": [
    "model.fc2 = nn.Linear(120, 50)\n",
    "\n",
    "model = model.to(device) # optional for running on CPU or CUDA"
   ]
  },
  {
   "cell_type": "code",
   "execution_count": 6,
   "metadata": {},
   "outputs": [
    {
     "name": "stdout",
     "output_type": "stream",
     "text": [
      "===== Loaded Pre-trained Model ===== \n",
      " ConvNet(\n",
      "  (layer1): Sequential(\n",
      "    (0): Conv2d(3, 16, kernel_size=(5, 5), stride=(1, 1), padding=(2, 2))\n",
      "    (1): BatchNorm2d(16, eps=1e-05, momentum=0.1, affine=True, track_running_stats=True)\n",
      "    (2): ReLU()\n",
      "    (3): MaxPool2d(kernel_size=2, stride=2, padding=0, dilation=1, ceil_mode=False)\n",
      "  )\n",
      "  (layer2): Sequential(\n",
      "    (0): Conv2d(16, 32, kernel_size=(5, 5), stride=(1, 1), padding=(2, 2))\n",
      "    (1): BatchNorm2d(32, eps=1e-05, momentum=0.1, affine=True, track_running_stats=True)\n",
      "    (2): ReLU()\n",
      "    (3): MaxPool2d(kernel_size=2, stride=2, padding=0, dilation=1, ceil_mode=False)\n",
      "  )\n",
      "  (fc1): Linear(in_features=2048, out_features=120, bias=True)\n",
      "  (fc2): Linear(in_features=120, out_features=50, bias=True)\n",
      ")\n"
     ]
    }
   ],
   "source": [
    "print(\"===== Loaded Pre-trained Model =====\", \"\\n\", model)"
   ]
  },
  {
   "cell_type": "code",
   "execution_count": 7,
   "metadata": {},
   "outputs": [
    {
     "name": "stdout",
     "output_type": "stream",
     "text": [
      "torch.Size([16, 3, 5, 5])\n",
      "torch.Size([16])\n",
      "torch.Size([16])\n",
      "torch.Size([16])\n",
      "torch.Size([32, 16, 5, 5])\n",
      "torch.Size([32])\n",
      "torch.Size([32])\n",
      "torch.Size([32])\n",
      "torch.Size([120, 2048])\n",
      "torch.Size([120])\n",
      "torch.Size([50, 120])\n",
      "torch.Size([50])\n"
     ]
    }
   ],
   "source": [
    "# cf) See what model.parameters are\n",
    "for params in model.parameters():\n",
    "    print(params.size())"
   ]
  },
  {
   "cell_type": "markdown",
   "metadata": {},
   "source": [
    "#### (3) Train"
   ]
  },
  {
   "cell_type": "code",
   "execution_count": 8,
   "metadata": {},
   "outputs": [
    {
     "name": "stdout",
     "output_type": "stream",
     "text": [
      "========================== Original Model ============================= \n",
      " ConvNet(\n",
      "  (layer1): Sequential(\n",
      "    (0): Conv2d(3, 16, kernel_size=(5, 5), stride=(1, 1), padding=(2, 2))\n",
      "    (1): BatchNorm2d(16, eps=1e-05, momentum=0.1, affine=True, track_running_stats=True)\n",
      "    (2): ReLU()\n",
      "    (3): MaxPool2d(kernel_size=2, stride=2, padding=0, dilation=1, ceil_mode=False)\n",
      "  )\n",
      "  (layer2): Sequential(\n",
      "    (0): Conv2d(16, 32, kernel_size=(5, 5), stride=(1, 1), padding=(2, 2))\n",
      "    (1): BatchNorm2d(32, eps=1e-05, momentum=0.1, affine=True, track_running_stats=True)\n",
      "    (2): ReLU()\n",
      "    (3): MaxPool2d(kernel_size=2, stride=2, padding=0, dilation=1, ceil_mode=False)\n",
      "  )\n",
      "  (fc1): Linear(in_features=2048, out_features=120, bias=True)\n",
      "  (fc2): Linear(in_features=120, out_features=10, bias=True)\n",
      ")\n",
      "========================== Modified Model ============================= \n",
      " ConvNet(\n",
      "  (layer1): Sequential(\n",
      "    (0): Conv2d(3, 16, kernel_size=(5, 5), stride=(1, 1), padding=(2, 2))\n",
      "    (1): BatchNorm2d(16, eps=1e-05, momentum=0.1, affine=True, track_running_stats=True)\n",
      "    (2): ReLU()\n",
      "    (3): MaxPool2d(kernel_size=2, stride=2, padding=0, dilation=1, ceil_mode=False)\n",
      "  )\n",
      "  (layer2): Sequential(\n",
      "    (0): Conv2d(16, 32, kernel_size=(5, 5), stride=(1, 1), padding=(2, 2))\n",
      "    (1): BatchNorm2d(32, eps=1e-05, momentum=0.1, affine=True, track_running_stats=True)\n",
      "    (2): ReLU()\n",
      "    (3): MaxPool2d(kernel_size=2, stride=2, padding=0, dilation=1, ceil_mode=False)\n",
      "  )\n",
      "  (fc1): Linear(in_features=2048, out_features=120, bias=True)\n",
      "  (fc2): Linear(in_features=120, out_features=50, bias=True)\n",
      ")\n"
     ]
    },
    {
     "name": "stderr",
     "output_type": "stream",
     "text": [
      "/Users/sangbuemseo/drive_google/grad/TA-introduction_to_Deeplearning/TA-EE4178/03-advanced/transfer_learning/cnn.py:27: UserWarning: Implicit dimension choice for softmax has been deprecated. Change the call to include dim=X as an argument.\n",
      "  x = F.softmax(self.fc2(x))\n"
     ]
    },
    {
     "name": "stdout",
     "output_type": "stream",
     "text": [
      "Epoch [1/1], Step [100/200], Loss: 3.8136\n",
      "Epoch [1/1], Step [200/200], Loss: 3.6390\n",
      "Accuracy of the network on the 10000 test images: 25.15 %\n"
     ]
    }
   ],
   "source": [
    "from cnn import ConvNet\n",
    "from font_dataset import FontDataset\n",
    "import torch\n",
    "import torchvision\n",
    "import torch.nn as nn\n",
    "import torchvision.transforms as transforms\n",
    "import os\n",
    "\n",
    "\n",
    "lr = 0.001\n",
    "num_epochs = 1\n",
    "batch_size = 100\n",
    "\n",
    "### Config\n",
    "device = torch.device('cuda' if torch.cuda.is_available() else 'cpu')\n",
    "\n",
    "### Load Data\n",
    "train_dir = '~/datasets/font/npy_train'.replace('~', os.path.expanduser('~'))\n",
    "train_data = FontDataset(train_dir)\n",
    "\n",
    "test_dir = '~/datasets/font/npy_test'.replace('~', os.path.expanduser('~'))\n",
    "test_data = FontDataset(test_dir)\n",
    "\n",
    "### Define Dataloader\n",
    "train_loader = torch.utils.data.DataLoader(dataset=train_data,\n",
    "                                           batch_size=batch_size)\n",
    "\n",
    "test_loader = torch.utils.data.DataLoader(dataset=test_data,\n",
    "                                           batch_size=batch_size)\n",
    "\n",
    "### Define Model and Load Params\n",
    "model = ConvNet().to(device)\n",
    "print(\"========================== Original Model =============================\", \"\\n\", model)\n",
    "model.load_state_dict(torch.load('./pths/cifar10_pre_model.pth', map_location=device))\n",
    "\n",
    "### User pre-trained model and Only change last layer\n",
    "for param in model.parameters():\n",
    "    param.requires_grad = False\n",
    "\n",
    "model.fc2 = nn.Linear(120, 50)\n",
    "modle = model.to(device)\n",
    "\n",
    "print(\"========================== Modified Model =============================\", \"\\n\", model)\n",
    "\n",
    "### Define Loss and Optim\n",
    "criterion = nn.CrossEntropyLoss()\n",
    "optimizer = torch.optim.Adam(model.parameters(), lr=lr)\n",
    "\n",
    "### Train\n",
    "if __name__ == '__main__':\n",
    "    total_step = len(train_loader)\n",
    "    for epoch in range(num_epochs):\n",
    "        for i, (images, labels) in enumerate(train_loader):\n",
    "            images = images.to(device)\n",
    "            labels = labels.to(device)\n",
    "\n",
    "            outputs = model(images).to(device)\n",
    "\n",
    "            loss = criterion(outputs, labels)\n",
    "            optimizer.zero_grad()\n",
    "            loss.backward()\n",
    "            optimizer.step()\n",
    "\n",
    "            # Print Loss for Tracking Training\n",
    "            if (i+1) % 100 == 0:\n",
    "                print('Epoch [{}/{}], Step [{}/{}], Loss: {:.4f}'.format(epoch+1, num_epochs, i+1, total_step, loss.item()))\n",
    "                test_image, test_label = next(iter(test_loader))\n",
    "                _, test_predicted = torch.max(model(test_image.to(device)).data, 1)\n",
    "\n",
    "    # Test after Training is done\n",
    "    model.eval() # Set model to Evaluation Mode (Batchnorm uses moving mean/var instead of mini-batch mean/var)\n",
    "    with torch.no_grad():\n",
    "        correct = 0\n",
    "        total = 0\n",
    "        for images, labels in test_loader:\n",
    "            images = images.to(device)\n",
    "            labels = labels.to(device)\n",
    "            outputs = model(images)\n",
    "            _, predicted = torch.max(outputs.data, 1)\n",
    "            total += labels.size(0)\n",
    "            correct += (predicted == labels).sum().item()\n",
    "\n",
    "        print('Accuracy of the network on the {} test images: {} %'.format(len(test_loader)*batch_size, 100 * correct / total))"
   ]
  },
  {
   "cell_type": "markdown",
   "metadata": {},
   "source": [
    "<hr>"
   ]
  },
  {
   "cell_type": "markdown",
   "metadata": {},
   "source": [
    "## ref"
   ]
  },
  {
   "cell_type": "markdown",
   "metadata": {},
   "source": [
    "* [pytorch.org - transfer learning for computer vision tutorial](https://pytorch.org/tutorials/beginner/transfer_learning_tutorial.html)"
   ]
  }
 ],
 "metadata": {
  "kernelspec": {
   "display_name": "Python 3",
   "language": "python",
   "name": "python3"
  },
  "language_info": {
   "codemirror_mode": {
    "name": "ipython",
    "version": 3
   },
   "file_extension": ".py",
   "mimetype": "text/x-python",
   "name": "python",
   "nbconvert_exporter": "python",
   "pygments_lexer": "ipython3",
   "version": "3.7.5"
  }
 },
 "nbformat": 4,
 "nbformat_minor": 2
}
